{
 "cells": [
  {
   "cell_type": "code",
   "execution_count": 1,
   "metadata": {},
   "outputs": [],
   "source": [
    "import pandas as pd\n",
    "import seaborn as sns\n",
    "import matplotlib.pyplot as plt\n",
    "import numpy as np\n",
    "import datetime as dt\n",
    "from sklearn.model_selection import train_test_split, cross_validate, GridSearchCV, learning_curve\n",
    "from sklearn.preprocessing import StandardScaler\n",
    "from sklearn.linear_model import LinearRegression\n",
    "from sklearn import metrics\n",
    "from sklearn.metrics import r2_score, mean_squared_error, mean_absolute_error\n",
    "import statsmodels.api as sm \n",
    "import warnings\n",
    "warnings.filterwarnings(\"ignore\")\n",
    "sns.set_style(\"whitegrid\")\n",
    "from sklearn.ensemble import RandomForestRegressor\n",
    "from sklearn.pipeline import make_pipeline\n",
    "from sklearn.feature_selection import SelectKBest, f_regression"
   ]
  },
  {
   "cell_type": "code",
   "execution_count": 2,
   "metadata": {},
   "outputs": [
    {
     "name": "stdout",
     "output_type": "stream",
     "text": [
      "state_name                   object\n",
      "county_name                  object\n",
      "Date                 datetime64[ns]\n",
      "Price                       float64\n",
      "mortgage_int_rate           float64\n",
      "dtype: object (13780, 5)\n"
     ]
    },
    {
     "data": {
      "text/html": [
       "<div>\n",
       "<style scoped>\n",
       "    .dataframe tbody tr th:only-of-type {\n",
       "        vertical-align: middle;\n",
       "    }\n",
       "\n",
       "    .dataframe tbody tr th {\n",
       "        vertical-align: top;\n",
       "    }\n",
       "\n",
       "    .dataframe thead th {\n",
       "        text-align: right;\n",
       "    }\n",
       "</style>\n",
       "<table border=\"1\" class=\"dataframe\">\n",
       "  <thead>\n",
       "    <tr style=\"text-align: right;\">\n",
       "      <th></th>\n",
       "      <th>state_name</th>\n",
       "      <th>county_name</th>\n",
       "      <th>Date</th>\n",
       "      <th>Price</th>\n",
       "      <th>mortgage_int_rate</th>\n",
       "    </tr>\n",
       "  </thead>\n",
       "  <tbody>\n",
       "    <tr>\n",
       "      <th>0</th>\n",
       "      <td>California</td>\n",
       "      <td>Fresno</td>\n",
       "      <td>2000-01-31</td>\n",
       "      <td>121248.0</td>\n",
       "      <td>8.21</td>\n",
       "    </tr>\n",
       "    <tr>\n",
       "      <th>1</th>\n",
       "      <td>California</td>\n",
       "      <td>Kern</td>\n",
       "      <td>2000-01-31</td>\n",
       "      <td>108969.0</td>\n",
       "      <td>8.21</td>\n",
       "    </tr>\n",
       "    <tr>\n",
       "      <th>2</th>\n",
       "      <td>California</td>\n",
       "      <td>Los Angeles</td>\n",
       "      <td>2000-01-31</td>\n",
       "      <td>231141.0</td>\n",
       "      <td>8.21</td>\n",
       "    </tr>\n",
       "    <tr>\n",
       "      <th>3</th>\n",
       "      <td>California</td>\n",
       "      <td>Monterey</td>\n",
       "      <td>2000-01-31</td>\n",
       "      <td>268911.0</td>\n",
       "      <td>8.21</td>\n",
       "    </tr>\n",
       "    <tr>\n",
       "      <th>4</th>\n",
       "      <td>California</td>\n",
       "      <td>Napa</td>\n",
       "      <td>2000-01-31</td>\n",
       "      <td>247799.0</td>\n",
       "      <td>8.21</td>\n",
       "    </tr>\n",
       "  </tbody>\n",
       "</table>\n",
       "</div>"
      ],
      "text/plain": [
       "   state_name  county_name       Date     Price  mortgage_int_rate\n",
       "0  California       Fresno 2000-01-31  121248.0               8.21\n",
       "1  California         Kern 2000-01-31  108969.0               8.21\n",
       "2  California  Los Angeles 2000-01-31  231141.0               8.21\n",
       "3  California     Monterey 2000-01-31  268911.0               8.21\n",
       "4  California         Napa 2000-01-31  247799.0               8.21"
      ]
     },
     "execution_count": 2,
     "metadata": {},
     "output_type": "execute_result"
    }
   ],
   "source": [
    "housing_int_df = pd.read_csv(\"../data/processed data/housing_mortgage_final.csv\")\n",
    "housing_int_df['Date'] = pd.to_datetime(housing_int_df['Date'])\n",
    "print(housing_int_df.dtypes, housing_int_df.shape)\n",
    "housing_int_df.head()"
   ]
  },
  {
   "cell_type": "code",
   "execution_count": 3,
   "metadata": {},
   "outputs": [
    {
     "data": {
      "text/html": [
       "<div>\n",
       "<style scoped>\n",
       "    .dataframe tbody tr th:only-of-type {\n",
       "        vertical-align: middle;\n",
       "    }\n",
       "\n",
       "    .dataframe tbody tr th {\n",
       "        vertical-align: top;\n",
       "    }\n",
       "\n",
       "    .dataframe thead th {\n",
       "        text-align: right;\n",
       "    }\n",
       "</style>\n",
       "<table border=\"1\" class=\"dataframe\">\n",
       "  <thead>\n",
       "    <tr style=\"text-align: right;\">\n",
       "      <th></th>\n",
       "      <th>state_name</th>\n",
       "      <th>county_name</th>\n",
       "      <th>Date</th>\n",
       "      <th>Price</th>\n",
       "      <th>mortgage_int_rate</th>\n",
       "    </tr>\n",
       "  </thead>\n",
       "  <tbody>\n",
       "    <tr>\n",
       "      <th>8112</th>\n",
       "      <td>California</td>\n",
       "      <td>Fresno</td>\n",
       "      <td>2013-01-31</td>\n",
       "      <td>165879.0</td>\n",
       "      <td>3.414</td>\n",
       "    </tr>\n",
       "    <tr>\n",
       "      <th>8113</th>\n",
       "      <td>California</td>\n",
       "      <td>Kern</td>\n",
       "      <td>2013-01-31</td>\n",
       "      <td>146547.0</td>\n",
       "      <td>3.414</td>\n",
       "    </tr>\n",
       "    <tr>\n",
       "      <th>8114</th>\n",
       "      <td>California</td>\n",
       "      <td>Los Angeles</td>\n",
       "      <td>2013-01-31</td>\n",
       "      <td>425542.0</td>\n",
       "      <td>3.414</td>\n",
       "    </tr>\n",
       "    <tr>\n",
       "      <th>8115</th>\n",
       "      <td>California</td>\n",
       "      <td>Monterey</td>\n",
       "      <td>2013-01-31</td>\n",
       "      <td>342353.0</td>\n",
       "      <td>3.414</td>\n",
       "    </tr>\n",
       "    <tr>\n",
       "      <th>8116</th>\n",
       "      <td>California</td>\n",
       "      <td>Napa</td>\n",
       "      <td>2013-01-31</td>\n",
       "      <td>419359.0</td>\n",
       "      <td>3.414</td>\n",
       "    </tr>\n",
       "  </tbody>\n",
       "</table>\n",
       "</div>"
      ],
      "text/plain": [
       "      state_name  county_name       Date     Price  mortgage_int_rate\n",
       "8112  California       Fresno 2013-01-31  165879.0              3.414\n",
       "8113  California         Kern 2013-01-31  146547.0              3.414\n",
       "8114  California  Los Angeles 2013-01-31  425542.0              3.414\n",
       "8115  California     Monterey 2013-01-31  342353.0              3.414\n",
       "8116  California         Napa 2013-01-31  419359.0              3.414"
      ]
     },
     "execution_count": 3,
     "metadata": {},
     "output_type": "execute_result"
    }
   ],
   "source": [
    "# Removing data uptil 2012, to eliminate the non linear post recession dip\n",
    "date = pd.to_datetime('2012-12-31')\n",
    "mask = housing_int_df['Date'] > date\n",
    "housing_int_2012 = housing_int_df.loc[mask]\n",
    "housing_int_2012.head()"
   ]
  },
  {
   "cell_type": "code",
   "execution_count": 4,
   "metadata": {},
   "outputs": [
    {
     "data": {
      "text/html": [
       "<div>\n",
       "<style scoped>\n",
       "    .dataframe tbody tr th:only-of-type {\n",
       "        vertical-align: middle;\n",
       "    }\n",
       "\n",
       "    .dataframe tbody tr th {\n",
       "        vertical-align: top;\n",
       "    }\n",
       "\n",
       "    .dataframe thead th {\n",
       "        text-align: right;\n",
       "    }\n",
       "</style>\n",
       "<table border=\"1\" class=\"dataframe\">\n",
       "  <thead>\n",
       "    <tr style=\"text-align: right;\">\n",
       "      <th></th>\n",
       "      <th>state_name</th>\n",
       "      <th>county_name</th>\n",
       "      <th>Date</th>\n",
       "      <th>Price</th>\n",
       "      <th>mortgage_int_rate</th>\n",
       "    </tr>\n",
       "  </thead>\n",
       "  <tbody>\n",
       "    <tr>\n",
       "      <th>5663</th>\n",
       "      <td>Washington</td>\n",
       "      <td>Kitsap</td>\n",
       "      <td>2022-01-31</td>\n",
       "      <td>552864.0</td>\n",
       "      <td>3.445</td>\n",
       "    </tr>\n",
       "    <tr>\n",
       "      <th>5664</th>\n",
       "      <td>Washington</td>\n",
       "      <td>Skagit</td>\n",
       "      <td>2022-01-31</td>\n",
       "      <td>562064.0</td>\n",
       "      <td>3.445</td>\n",
       "    </tr>\n",
       "    <tr>\n",
       "      <th>5665</th>\n",
       "      <td>Washington</td>\n",
       "      <td>Spokane</td>\n",
       "      <td>2022-01-31</td>\n",
       "      <td>411352.0</td>\n",
       "      <td>3.445</td>\n",
       "    </tr>\n",
       "    <tr>\n",
       "      <th>5666</th>\n",
       "      <td>Washington</td>\n",
       "      <td>Thurston</td>\n",
       "      <td>2022-01-31</td>\n",
       "      <td>502325.0</td>\n",
       "      <td>3.445</td>\n",
       "    </tr>\n",
       "    <tr>\n",
       "      <th>5667</th>\n",
       "      <td>Washington</td>\n",
       "      <td>Walla Walla</td>\n",
       "      <td>2022-01-31</td>\n",
       "      <td>381225.0</td>\n",
       "      <td>3.445</td>\n",
       "    </tr>\n",
       "  </tbody>\n",
       "</table>\n",
       "</div>"
      ],
      "text/plain": [
       "      state_name  county_name       Date     Price  mortgage_int_rate\n",
       "5663  Washington       Kitsap 2022-01-31  552864.0              3.445\n",
       "5664  Washington       Skagit 2022-01-31  562064.0              3.445\n",
       "5665  Washington      Spokane 2022-01-31  411352.0              3.445\n",
       "5666  Washington     Thurston 2022-01-31  502325.0              3.445\n",
       "5667  Washington  Walla Walla 2022-01-31  381225.0              3.445"
      ]
     },
     "execution_count": 4,
     "metadata": {},
     "output_type": "execute_result"
    }
   ],
   "source": [
    "housing_int_2012.reset_index(drop=True, inplace=True)\n",
    "housing_int_2012.tail()"
   ]
  },
  {
   "cell_type": "markdown",
   "metadata": {},
   "source": [
    "<b>Separating values from \"2021-07-31\" to \"2022-01-31\", to save it latter for model prediction. Saving data prior to \"2021-07-31\" into training dataframe</b>"
   ]
  },
  {
   "cell_type": "code",
   "execution_count": 5,
   "metadata": {},
   "outputs": [],
   "source": [
    "LA_hou_mor = housing_int_2012[(housing_int_2012[\"state_name\"]==\"California\") & (housing_int_2012[\"county_name\"]==\"Los Angeles\")]\n",
    "LA_hou_mor.reset_index(drop=True, inplace= True)\n",
    "dt_separate = pd.to_datetime('2021-06-30')\n",
    "date_ord = list(range(1,LA_hou_mor.shape[0] + 1))\n",
    "#LA_hou_mor[\"Date_ord\"] = date_ord\n",
    "LA_hou_mor['Date_ord']= LA_hou_mor['Date'].map(dt.datetime.toordinal)\n",
    "LA_hou_mor_train = LA_hou_mor[LA_hou_mor['Date'] <= dt_separate]\n",
    "LA_hou_mor_topred = LA_hou_mor[LA_hou_mor['Date'] > dt_separate]"
   ]
  },
  {
   "cell_type": "code",
   "execution_count": 6,
   "metadata": {},
   "outputs": [],
   "source": [
    "De_hou_mor = housing_int_2012[(housing_int_2012[\"state_name\"]==\"Colorado\") & (housing_int_2012[\"county_name\"]==\"Denver\")]\n",
    "De_hou_mor.reset_index(drop=True, inplace= True)\n",
    "#De_hou_mor[\"Date_ord\"] = date_ord\n",
    "De_hou_mor['Date_ord']= De_hou_mor['Date'].map(dt.datetime.toordinal)\n",
    "De_hou_mor_train = De_hou_mor[De_hou_mor['Date'] <= dt_separate]\n",
    "De_hou_mor_topred = De_hou_mor[De_hou_mor['Date'] > dt_separate]"
   ]
  },
  {
   "cell_type": "code",
   "execution_count": 7,
   "metadata": {},
   "outputs": [],
   "source": [
    "Da_hou_mor = housing_int_2012[(housing_int_2012[\"state_name\"]==\"Texas\") & (housing_int_2012[\"county_name\"]==\"Dallas\")]\n",
    "Da_hou_mor.reset_index(drop=True, inplace= True)\n",
    "#Da_hou_mor[\"Date_ord\"] = date_ord\n",
    "Da_hou_mor['Date_ord']= Da_hou_mor['Date'].map(dt.datetime.toordinal)\n",
    "Da_hou_mor_train = Da_hou_mor[(Da_hou_mor['Date'] <= dt_separate)]\n",
    "Da_hou_mor_topred = Da_hou_mor[(Da_hou_mor['Date'] > dt_separate)]"
   ]
  },
  {
   "cell_type": "code",
   "execution_count": 8,
   "metadata": {},
   "outputs": [],
   "source": [
    "VB_hou_mor = housing_int_2012[(housing_int_2012[\"state_name\"]==\"Virginia\") & (housing_int_2012[\"county_name\"]==\"Virginia Beach\")]\n",
    "VB_hou_mor.reset_index(drop=True, inplace= True)\n",
    "#VB_hou_mor[\"Date_ord\"] = date_ord\n",
    "VB_hou_mor['Date_ord']= VB_hou_mor['Date'].map(dt.datetime.toordinal)\n",
    "VB_hou_mor_train = VB_hou_mor[VB_hou_mor['Date'] <= dt_separate]\n",
    "VB_hou_mor_topred = VB_hou_mor[VB_hou_mor['Date'] > dt_separate]"
   ]
  },
  {
   "cell_type": "code",
   "execution_count": 9,
   "metadata": {},
   "outputs": [],
   "source": [
    "Ki_hou_mor = housing_int_2012[(housing_int_2012[\"state_name\"]==\"Washington\") & (housing_int_2012[\"county_name\"]==\"King\")]\n",
    "Ki_hou_mor.reset_index(drop=True, inplace= True)\n",
    "#Ki_hou_mor[\"Date_ord\"] = date_ord\n",
    "Ki_hou_mor['Date_ord']= Ki_hou_mor['Date'].map(dt.datetime.toordinal)\n",
    "Ki_hou_mor_train = Ki_hou_mor[Ki_hou_mor['Date'] <= dt_separate]\n",
    "Ki_hou_mor_topred = Ki_hou_mor[Ki_hou_mor['Date'] > dt_separate]"
   ]
  },
  {
   "cell_type": "code",
   "execution_count": 10,
   "metadata": {},
   "outputs": [
    {
     "data": {
      "text/html": [
       "<div>\n",
       "<style scoped>\n",
       "    .dataframe tbody tr th:only-of-type {\n",
       "        vertical-align: middle;\n",
       "    }\n",
       "\n",
       "    .dataframe tbody tr th {\n",
       "        vertical-align: top;\n",
       "    }\n",
       "\n",
       "    .dataframe thead th {\n",
       "        text-align: right;\n",
       "    }\n",
       "</style>\n",
       "<table border=\"1\" class=\"dataframe\">\n",
       "  <thead>\n",
       "    <tr style=\"text-align: right;\">\n",
       "      <th></th>\n",
       "      <th>state_name</th>\n",
       "      <th>county_name</th>\n",
       "      <th>Date</th>\n",
       "      <th>Price</th>\n",
       "      <th>mortgage_int_rate</th>\n",
       "      <th>Date_ord</th>\n",
       "    </tr>\n",
       "  </thead>\n",
       "  <tbody>\n",
       "    <tr>\n",
       "      <th>0</th>\n",
       "      <td>Washington</td>\n",
       "      <td>King</td>\n",
       "      <td>2013-01-31</td>\n",
       "      <td>282355.0</td>\n",
       "      <td>3.4140</td>\n",
       "      <td>734899</td>\n",
       "    </tr>\n",
       "    <tr>\n",
       "      <th>1</th>\n",
       "      <td>Washington</td>\n",
       "      <td>King</td>\n",
       "      <td>2013-02-28</td>\n",
       "      <td>285711.0</td>\n",
       "      <td>3.5325</td>\n",
       "      <td>734927</td>\n",
       "    </tr>\n",
       "    <tr>\n",
       "      <th>2</th>\n",
       "      <td>Washington</td>\n",
       "      <td>King</td>\n",
       "      <td>2013-03-31</td>\n",
       "      <td>289809.0</td>\n",
       "      <td>3.5650</td>\n",
       "      <td>734958</td>\n",
       "    </tr>\n",
       "    <tr>\n",
       "      <th>3</th>\n",
       "      <td>Washington</td>\n",
       "      <td>King</td>\n",
       "      <td>2013-04-30</td>\n",
       "      <td>294786.0</td>\n",
       "      <td>3.4450</td>\n",
       "      <td>734988</td>\n",
       "    </tr>\n",
       "    <tr>\n",
       "      <th>4</th>\n",
       "      <td>Washington</td>\n",
       "      <td>King</td>\n",
       "      <td>2013-05-31</td>\n",
       "      <td>299060.0</td>\n",
       "      <td>3.5360</td>\n",
       "      <td>735019</td>\n",
       "    </tr>\n",
       "  </tbody>\n",
       "</table>\n",
       "</div>"
      ],
      "text/plain": [
       "   state_name county_name       Date     Price  mortgage_int_rate  Date_ord\n",
       "0  Washington        King 2013-01-31  282355.0             3.4140    734899\n",
       "1  Washington        King 2013-02-28  285711.0             3.5325    734927\n",
       "2  Washington        King 2013-03-31  289809.0             3.5650    734958\n",
       "3  Washington        King 2013-04-30  294786.0             3.4450    734988\n",
       "4  Washington        King 2013-05-31  299060.0             3.5360    735019"
      ]
     },
     "execution_count": 10,
     "metadata": {},
     "output_type": "execute_result"
    }
   ],
   "source": [
    "Ki_hou_mor.head()"
   ]
  },
  {
   "cell_type": "markdown",
   "metadata": {},
   "source": [
    "# Multiple linear regression model: with date and mortgage interest rate as features"
   ]
  },
  {
   "cell_type": "code",
   "execution_count": 11,
   "metadata": {},
   "outputs": [],
   "source": [
    "#sklearn Linear Regression modelling function\n",
    "\n",
    "def Linear_Regression(df,df_topred, multipleLR, scale):\n",
    "    county_state = str(df[\"county_name\"].iloc[0]) + \", \" + str(df[\"state_name\"].iloc[0])\n",
    "    if multipleLR:\n",
    "        X = df[[\"Date_ord\",\"mortgage_int_rate\"]]\n",
    "        X_topred = df_topred[[\"Date_ord\",\"mortgage_int_rate\"]]\n",
    "        mul_linear_reg = 1 \n",
    "    else:\n",
    "        #X = df.Date_ord.values.reshape(-1,1)\n",
    "        #X_topred = df_topred.Date_ord.values.reshape(-1,1)\n",
    "        X = df[[\"Date_ord\"]]\n",
    "        X_topred = df_topred[[\"Date_ord\"]]\n",
    "        mul_linear_reg = 0\n",
    "    y= df.Price\n",
    "    y_topred = df_topred.Price\n",
    "    \n",
    "    #X_train = X.loc[:82]\n",
    "    #X_test = X.loc[83:]\n",
    "    #y_train = y.loc[:82]\n",
    "    #y_test = y.loc[83:]\n",
    "    X_train, X_test, y_train, y_test = train_test_split(X, y, test_size=0.3, random_state=1)\n",
    "    if scale:\n",
    "        scaler = StandardScaler()\n",
    "        scaler.fit(X_train)\n",
    "        X_train = scaler.transform(X_train)\n",
    "        X_test = scaler.transform(X_test)\n",
    "        X_topred = scaler.transform(X_topred)\n",
    "        \n",
    "        scale = 1\n",
    "    else:\n",
    "        scale = 0\n",
    "        \n",
    "    # Fitting data to model and predicting on test data\n",
    "    LR_model = LinearRegression()\n",
    "    LR_model.fit(X_train, y_train)\n",
    "    \n",
    "    print(\"Test Prediction\")\n",
    "    y_pred_test = LR_model.predict(X_test)\n",
    "    test_pred = pd.DataFrame({'Actual_test': y_test, 'Predicted_test':  y_pred_test})\n",
    "    print(test_pred.head(3))\n",
    "    R2 = round(r2_score(y_test,y_pred_test),2)\n",
    "    MAE = round(mean_absolute_error(y_test, y_pred_test),2)\n",
    "    MSE = round(mean_squared_error(y_test, y_pred_test),2)\n",
    "    RMSE = round(np.sqrt(mean_squared_error(y_test, y_pred_test)),2)\n",
    "    print(\"R2 score for test prediction: {}\".format(R2)) \n",
    "    \n",
    "    print(\"\\nActual prediction\")\n",
    "    y_pred = LR_model.predict(X_topred)\n",
    "    pred = pd.DataFrame({'Date': df_topred[\"Date\"],'Actual': y_topred, 'Predicted':  y_pred})\n",
    "    print(pred)\n",
    "    print(\"R2 score for actual prediction: {}\".format(round(r2_score(y_topred,y_pred),2)) )\n",
    "        \n",
    "    metrics_dict = {\"county_state\": county_state,\"mul_linear_reg\": mul_linear_reg,\"scale\": scale,\"R2\": R2,\"MAE\": MAE,\"MSE\": MSE,\"RMSE\": RMSE}\n",
    "    return metrics_dict,test_pred,pred"
   ]
  },
  {
   "cell_type": "markdown",
   "metadata": {},
   "source": [
    "<b>Multiple Linear Regression model: </b>"
   ]
  },
  {
   "cell_type": "code",
   "execution_count": 12,
   "metadata": {},
   "outputs": [],
   "source": [
    "metrics_df = pd.DataFrame(columns = [\"county_state\",\"mul_linear_reg\",\"scale\",\"R2\",\"MAE\",\"MSE\",\"RMSE\"])"
   ]
  },
  {
   "cell_type": "markdown",
   "metadata": {},
   "source": [
    "<b>Training data not scaled</b>"
   ]
  },
  {
   "cell_type": "code",
   "execution_count": 13,
   "metadata": {
    "scrolled": true
   },
   "outputs": [
    {
     "name": "stdout",
     "output_type": "stream",
     "text": [
      "Test Prediction\n",
      "    Actual_test  Predicted_test\n",
      "95     735908.0   720414.605823\n",
      "78     662697.0   682306.600922\n",
      "17     516419.0   510026.083104\n",
      "R2 score for test prediction: 0.96\n",
      "\n",
      "Actual prediction\n",
      "          Date    Actual      Predicted\n",
      "102 2021-07-31  823806.0  742457.380786\n",
      "103 2021-08-31  837248.0  745138.058466\n",
      "104 2021-09-30  846358.0  748583.049384\n",
      "105 2021-10-31  851116.0  753261.865196\n",
      "106 2021-11-30  858319.0  756111.555893\n",
      "107 2021-12-31  867616.0  759372.004223\n",
      "108 2022-01-31  878396.0  765909.192030\n",
      "R2 score for actual prediction: -33.09\n"
     ]
    },
    {
     "data": {
      "image/png": "[encoded data removed]",
      "text/plain": [
       "<Figure size 1080x360 with 1 Axes>"
      ]
     },
     "metadata": {},
     "output_type": "display_data"
    }
   ],
   "source": [
    "# Using Los Angeles, California data to train multiple linear regression model\n",
    "metrics_dict, test_pred, actual_pred = Linear_Regression(LA_hou_mor_train,LA_hou_mor_topred, True, False)\n",
    "metrics_df = metrics_df.append(metrics_dict, ignore_index =True)\n",
    "plt.figure(figsize=(15,5))\n",
    "plt.plot(actual_pred[\"Date\"], actual_pred['Actual'])\n",
    "plt.plot(actual_pred[\"Date\"], actual_pred['Predicted'], color=\"red\")\n",
    "plt.show()"
   ]
  },
  {
   "cell_type": "code",
   "execution_count": 14,
   "metadata": {},
   "outputs": [
    {
     "name": "stdout",
     "output_type": "stream",
     "text": [
      "Test Prediction\n",
      "    Actual_test  Predicted_test\n",
      "95     480150.0   480489.127912\n",
      "78     439103.0   446375.394354\n",
      "17     288263.0   295201.211720\n",
      "R2 score for test prediction: 0.97\n",
      "\n",
      "Actual prediction\n",
      "          Date    Actual      Predicted\n",
      "102 2021-07-31  548111.0  499671.918239\n",
      "103 2021-08-31  558073.0  502037.298960\n",
      "104 2021-09-30  565270.0  505015.793015\n",
      "105 2021-10-31  571458.0  509000.320176\n",
      "106 2021-11-30  579038.0  511496.426043\n",
      "107 2021-12-31  588258.0  514331.610912\n",
      "108 2022-01-31  598233.0  519822.028156\n",
      "R2 score for actual prediction: -15.13\n"
     ]
    }
   ],
   "source": [
    "# Using Denver, Colorado data to train multiple linear regression model\n",
    "metrics_dict,test_pred,actual_pred = Linear_Regression(De_hou_mor_train, De_hou_mor_topred,True, False)\n",
    "metrics_df = metrics_df.append(metrics_dict, ignore_index =True)"
   ]
  },
  {
   "cell_type": "code",
   "execution_count": 15,
   "metadata": {},
   "outputs": [
    {
     "name": "stdout",
     "output_type": "stream",
     "text": [
      "Test Prediction\n",
      "    Actual_test  Predicted_test\n",
      "95     274892.0   274304.166597\n",
      "78     253425.0   255371.537907\n",
      "17     168696.0   171035.419851\n",
      "R2 score for test prediction: 0.99\n",
      "\n",
      "Actual prediction\n",
      "          Date    Actual      Predicted\n",
      "102 2021-07-31  311657.0  285029.045068\n",
      "103 2021-08-31  319551.0  286346.712664\n",
      "104 2021-09-30  326735.0  288014.830130\n",
      "105 2021-10-31  332809.0  290255.383462\n",
      "106 2021-11-30  338271.0  291648.547923\n",
      "107 2021-12-31  344143.0  293233.995837\n",
      "108 2022-01-31  351550.0  296332.880722\n",
      "R2 score for actual prediction: -10.09\n"
     ]
    }
   ],
   "source": [
    "# Using Dallas, Texas data to train multiple linear regression model\n",
    "metrics_dict,test_pred, actual_pred = Linear_Regression(Da_hou_mor_train, Da_hou_mor_topred,True, False)\n",
    "metrics_df = metrics_df.append(metrics_dict, ignore_index =True)"
   ]
  },
  {
   "cell_type": "code",
   "execution_count": 16,
   "metadata": {},
   "outputs": [
    {
     "name": "stdout",
     "output_type": "stream",
     "text": [
      "Test Prediction\n",
      "    Actual_test  Predicted_test\n",
      "95     262693.0   259103.210097\n",
      "78     241375.0   244503.928475\n",
      "17     218480.0   215507.941775\n",
      "R2 score for test prediction: 0.87\n",
      "\n",
      "Actual prediction\n",
      "          Date    Actual      Predicted\n",
      "102 2021-07-31  285177.0  260877.327294\n",
      "103 2021-08-31  288882.0  261487.707455\n",
      "104 2021-09-30  292112.0  261528.061000\n",
      "105 2021-10-31  295028.0  260845.932477\n",
      "106 2021-11-30  297984.0  261271.359853\n",
      "107 2021-12-31  301406.0  261506.711587\n",
      "108 2022-01-31  305036.0  259622.483018\n",
      "R2 score for actual prediction: -27.84\n"
     ]
    }
   ],
   "source": [
    "# Using Virginia Beach, Virginia data to train multiple linear regression model\n",
    "metrics_dict,test_pred,actual_pred = Linear_Regression(VB_hou_mor_train,VB_hou_mor_topred, True, False)\n",
    "metrics_df = metrics_df.append(metrics_dict, ignore_index =True)"
   ]
  },
  {
   "cell_type": "code",
   "execution_count": 17,
   "metadata": {},
   "outputs": [
    {
     "name": "stdout",
     "output_type": "stream",
     "text": [
      "Test Prediction\n",
      "    Actual_test  Predicted_test\n",
      "95     588871.0   574481.756042\n",
      "78     507881.0   528563.176633\n",
      "17     331888.0   333018.284035\n",
      "R2 score for test prediction: 0.96\n",
      "\n",
      "Actual prediction\n",
      "          Date    Actual      Predicted\n",
      "102 2021-07-31  668077.0  598870.978905\n",
      "103 2021-08-31  681454.0  601965.473880\n",
      "104 2021-09-30  689764.0  605700.061077\n",
      "105 2021-10-31  697361.0  610532.302585\n",
      "106 2021-11-30  708330.0  613749.167369\n",
      "107 2021-12-31  719871.0  617347.878955\n",
      "108 2022-01-31  733604.0  623796.314778\n",
      "R2 score for actual prediction: -17.65\n"
     ]
    }
   ],
   "source": [
    "# Using King, Washington data to train multiple linear regression model\n",
    "metrics_dict,test_pred,actual_pred = Linear_Regression(Ki_hou_mor_train,Ki_hou_mor_topred, True, False)\n",
    "metrics_df = metrics_df.append(metrics_dict, ignore_index =True)"
   ]
  },
  {
   "cell_type": "markdown",
   "metadata": {},
   "source": [
    "<b>Scaled train data</b>"
   ]
  },
  {
   "cell_type": "code",
   "execution_count": 18,
   "metadata": {},
   "outputs": [
    {
     "name": "stdout",
     "output_type": "stream",
     "text": [
      "Test Prediction\n",
      "    Actual_test  Predicted_test\n",
      "95     735908.0   720414.605823\n",
      "78     662697.0   682306.600922\n",
      "17     516419.0   510026.083104\n",
      "R2 score for test prediction: 0.96\n",
      "\n",
      "Actual prediction\n",
      "          Date    Actual      Predicted\n",
      "102 2021-07-31  823806.0  742457.380786\n",
      "103 2021-08-31  837248.0  745138.058466\n",
      "104 2021-09-30  846358.0  748583.049384\n",
      "105 2021-10-31  851116.0  753261.865196\n",
      "106 2021-11-30  858319.0  756111.555893\n",
      "107 2021-12-31  867616.0  759372.004223\n",
      "108 2022-01-31  878396.0  765909.192030\n",
      "R2 score for actual prediction: -33.09\n"
     ]
    }
   ],
   "source": [
    "# Using Los Angeles, California data to train multiple linear regression model\n",
    "metrics_dict, test_pred,actual_pred = Linear_Regression(LA_hou_mor_train,LA_hou_mor_topred, True, True)\n",
    "metrics_df = metrics_df.append(metrics_dict, ignore_index =True)"
   ]
  },
  {
   "cell_type": "code",
   "execution_count": 19,
   "metadata": {},
   "outputs": [
    {
     "name": "stdout",
     "output_type": "stream",
     "text": [
      "Test Prediction\n",
      "    Actual_test  Predicted_test\n",
      "95     480150.0   480489.127912\n",
      "78     439103.0   446375.394354\n",
      "17     288263.0   295201.211720\n",
      "R2 score for test prediction: 0.97\n",
      "\n",
      "Actual prediction\n",
      "          Date    Actual      Predicted\n",
      "102 2021-07-31  548111.0  499671.918239\n",
      "103 2021-08-31  558073.0  502037.298960\n",
      "104 2021-09-30  565270.0  505015.793015\n",
      "105 2021-10-31  571458.0  509000.320176\n",
      "106 2021-11-30  579038.0  511496.426043\n",
      "107 2021-12-31  588258.0  514331.610912\n",
      "108 2022-01-31  598233.0  519822.028156\n",
      "R2 score for actual prediction: -15.13\n"
     ]
    }
   ],
   "source": [
    "# Using Denver, Colorado data to train multiple linear regression model\n",
    "metrics_dict, test_pred, actual_pred = Linear_Regression(De_hou_mor_train,De_hou_mor_topred, True, True)\n",
    "metrics_df = metrics_df.append(metrics_dict, ignore_index =True)"
   ]
  },
  {
   "cell_type": "code",
   "execution_count": 20,
   "metadata": {},
   "outputs": [
    {
     "name": "stdout",
     "output_type": "stream",
     "text": [
      "Test Prediction\n",
      "    Actual_test  Predicted_test\n",
      "95     274892.0   274304.166597\n",
      "78     253425.0   255371.537907\n",
      "17     168696.0   171035.419851\n",
      "R2 score for test prediction: 0.99\n",
      "\n",
      "Actual prediction\n",
      "          Date    Actual      Predicted\n",
      "102 2021-07-31  311657.0  285029.045068\n",
      "103 2021-08-31  319551.0  286346.712664\n",
      "104 2021-09-30  326735.0  288014.830130\n",
      "105 2021-10-31  332809.0  290255.383462\n",
      "106 2021-11-30  338271.0  291648.547923\n",
      "107 2021-12-31  344143.0  293233.995837\n",
      "108 2022-01-31  351550.0  296332.880722\n",
      "R2 score for actual prediction: -10.09\n"
     ]
    }
   ],
   "source": [
    "# Using Dallas, Texas data to train multiple linear regression model\n",
    "metrics_dict, test_pred, actual_pred = Linear_Regression(Da_hou_mor_train,Da_hou_mor_topred, True, True)\n",
    "metrics_df = metrics_df.append(metrics_dict, ignore_index =True)"
   ]
  },
  {
   "cell_type": "code",
   "execution_count": 21,
   "metadata": {},
   "outputs": [
    {
     "name": "stdout",
     "output_type": "stream",
     "text": [
      "Test Prediction\n",
      "    Actual_test  Predicted_test\n",
      "95     262693.0   259103.210097\n",
      "78     241375.0   244503.928475\n",
      "17     218480.0   215507.941775\n",
      "R2 score for test prediction: 0.87\n",
      "\n",
      "Actual prediction\n",
      "          Date    Actual      Predicted\n",
      "102 2021-07-31  285177.0  260877.327294\n",
      "103 2021-08-31  288882.0  261487.707455\n",
      "104 2021-09-30  292112.0  261528.061000\n",
      "105 2021-10-31  295028.0  260845.932477\n",
      "106 2021-11-30  297984.0  261271.359853\n",
      "107 2021-12-31  301406.0  261506.711587\n",
      "108 2022-01-31  305036.0  259622.483018\n",
      "R2 score for actual prediction: -27.84\n"
     ]
    }
   ],
   "source": [
    "# Using Virginia Beach, Virginia data to train multiple linear regression model\n",
    "metrics_dict, test_pred, actual_pred = Linear_Regression(VB_hou_mor_train,VB_hou_mor_topred, True, True)\n",
    "metrics_df = metrics_df.append(metrics_dict, ignore_index =True)"
   ]
  },
  {
   "cell_type": "code",
   "execution_count": 22,
   "metadata": {},
   "outputs": [
    {
     "name": "stdout",
     "output_type": "stream",
     "text": [
      "Test Prediction\n",
      "    Actual_test  Predicted_test\n",
      "95     588871.0   574481.756042\n",
      "78     507881.0   528563.176633\n",
      "17     331888.0   333018.284035\n",
      "R2 score for test prediction: 0.96\n",
      "\n",
      "Actual prediction\n",
      "          Date    Actual      Predicted\n",
      "102 2021-07-31  668077.0  598870.978905\n",
      "103 2021-08-31  681454.0  601965.473880\n",
      "104 2021-09-30  689764.0  605700.061077\n",
      "105 2021-10-31  697361.0  610532.302585\n",
      "106 2021-11-30  708330.0  613749.167369\n",
      "107 2021-12-31  719871.0  617347.878955\n",
      "108 2022-01-31  733604.0  623796.314778\n",
      "R2 score for actual prediction: -17.65\n"
     ]
    }
   ],
   "source": [
    "# Using King, Washington data to train multiple linear regression model\n",
    "metrics_dict, test_pred, actual_pred = Linear_Regression(Ki_hou_mor_train,Ki_hou_mor_topred, True, True)\n",
    "metrics_df = metrics_df.append(metrics_dict, ignore_index =True)"
   ]
  },
  {
   "cell_type": "markdown",
   "metadata": {},
   "source": [
    "# Linear Regression model: only considering date"
   ]
  },
  {
   "cell_type": "markdown",
   "metadata": {},
   "source": [
    "<b>Linear Regression model:</b>"
   ]
  },
  {
   "cell_type": "markdown",
   "metadata": {},
   "source": [
    "<b>training data not scaled </b>"
   ]
  },
  {
   "cell_type": "code",
   "execution_count": 23,
   "metadata": {},
   "outputs": [
    {
     "name": "stdout",
     "output_type": "stream",
     "text": [
      "Test Prediction\n",
      "    Actual_test  Predicted_test\n",
      "95     735908.0   729531.461297\n",
      "78     662697.0   681437.333485\n",
      "17     516419.0   509354.876168\n",
      "R2 score for test prediction: 0.96\n",
      "\n",
      "Actual prediction\n",
      "          Date    Actual      Predicted\n",
      "102 2021-07-31  823806.0  749176.846839\n",
      "103 2021-08-31  837248.0  752049.521140\n",
      "104 2021-09-30  846358.0  754829.528528\n",
      "105 2021-10-31  851116.0  757702.202829\n",
      "106 2021-11-30  858319.0  760482.210217\n",
      "107 2021-12-31  867616.0  763354.884518\n",
      "108 2022-01-31  878396.0  766227.558819\n",
      "R2 score for actual prediction: -30.08\n"
     ]
    }
   ],
   "source": [
    "# Using Los Angeles, California data to train linear regression model\n",
    "metrics_dict, test_pred,actual_pred = Linear_Regression(LA_hou_mor_train,LA_hou_mor_topred, False, False)\n",
    "metrics_df = metrics_df.append(metrics_dict, ignore_index =True)"
   ]
  },
  {
   "cell_type": "code",
   "execution_count": 24,
   "metadata": {},
   "outputs": [
    {
     "name": "stdout",
     "output_type": "stream",
     "text": [
      "Test Prediction\n",
      "    Actual_test  Predicted_test\n",
      "95     480150.0   487876.767358\n",
      "78     439103.0   445671.002975\n",
      "17     288263.0   294657.314228\n",
      "R2 score for test prediction: 0.97\n",
      "\n",
      "Actual prediction\n",
      "          Date    Actual      Predicted\n",
      "102 2021-07-31  548111.0  505116.886913\n",
      "103 2021-08-31  558073.0  507637.847792\n",
      "104 2021-09-30  565270.0  510077.487352\n",
      "105 2021-10-31  571458.0  512598.448230\n",
      "106 2021-11-30  579038.0  515038.087790\n",
      "107 2021-12-31  588258.0  517559.048668\n",
      "108 2022-01-31  598233.0  520080.009546\n",
      "R2 score for actual prediction: -13.43\n"
     ]
    }
   ],
   "source": [
    "# Using Denver, Colorado data to train linear regression model\n",
    "metrics_dict, test_pred,actual_pred = Linear_Regression(De_hou_mor_train,De_hou_mor_topred, False, False)\n",
    "metrics_df = metrics_df.append(metrics_dict, ignore_index =True)"
   ]
  },
  {
   "cell_type": "code",
   "execution_count": 25,
   "metadata": {},
   "outputs": [
    {
     "name": "stdout",
     "output_type": "stream",
     "text": [
      "Test Prediction\n",
      "    Actual_test  Predicted_test\n",
      "95     274892.0   278514.994539\n",
      "78     253425.0   254970.046886\n",
      "17     168696.0   170725.407596\n",
      "R2 score for test prediction: 0.98\n",
      "\n",
      "Actual prediction\n",
      "          Date    Actual      Predicted\n",
      "102 2021-07-31  311657.0  288132.583946\n",
      "103 2021-08-31  319551.0  289538.929567\n",
      "104 2021-09-30  326735.0  290899.909200\n",
      "105 2021-10-31  332809.0  292306.254821\n",
      "106 2021-11-30  338271.0  293667.234454\n",
      "107 2021-12-31  344143.0  295073.580075\n",
      "108 2022-01-31  351550.0  296479.925696\n",
      "R2 score for actual prediction: -9.13\n"
     ]
    }
   ],
   "source": [
    "# Using Dallas, Texas data to train linear regression model\n",
    "metrics_dict, test_pred, actual_pred = Linear_Regression(Da_hou_mor_train,Da_hou_mor_topred, False, False)\n",
    "metrics_df = metrics_df.append(metrics_dict, ignore_index =True)"
   ]
  },
  {
   "cell_type": "code",
   "execution_count": 26,
   "metadata": {},
   "outputs": [
    {
     "name": "stdout",
     "output_type": "stream",
     "text": [
      "Test Prediction\n",
      "    Actual_test  Predicted_test\n",
      "95     262693.0   253205.912667\n",
      "78     241375.0   245066.219786\n",
      "17     218480.0   215942.116360\n",
      "R2 score for test prediction: 0.83\n",
      "\n",
      "Actual prediction\n",
      "          Date    Actual      Predicted\n",
      "102 2021-07-31  285177.0  256530.796849\n",
      "103 2021-08-31  288882.0  257016.982743\n",
      "104 2021-09-30  292112.0  257487.485222\n",
      "105 2021-10-31  295028.0  257973.671117\n",
      "106 2021-11-30  297984.0  258444.173595\n",
      "107 2021-12-31  301406.0  258930.359490\n",
      "108 2022-01-31  305036.0  259416.545384\n",
      "R2 score for actual prediction: -32.66\n"
     ]
    }
   ],
   "source": [
    "# Using Virginia Beach, Virginia data to train linear regression model\n",
    "metrics_dict, test_pred, actual_pred = Linear_Regression(VB_hou_mor_train,VB_hou_mor_topred, False, False)\n",
    "metrics_df = metrics_df.append(metrics_dict, ignore_index =True)"
   ]
  },
  {
   "cell_type": "code",
   "execution_count": 27,
   "metadata": {},
   "outputs": [
    {
     "name": "stdout",
     "output_type": "stream",
     "text": [
      "Test Prediction\n",
      "    Actual_test  Predicted_test\n",
      "95     588871.0   582410.529201\n",
      "78     507881.0   527807.189622\n",
      "17     331888.0   332434.546852\n",
      "R2 score for test prediction: 0.96\n",
      "\n",
      "Actual prediction\n",
      "          Date    Actual      Predicted\n",
      "102 2021-07-31  668077.0  604714.783518\n",
      "103 2021-08-31  681454.0  607976.254668\n",
      "104 2021-09-30  689764.0  611132.517071\n",
      "105 2021-10-31  697361.0  614393.988222\n",
      "106 2021-11-30  708330.0  617550.250625\n",
      "107 2021-12-31  719871.0  620811.721775\n",
      "108 2022-01-31  733604.0  624073.192925\n",
      "R2 score for actual prediction: -16.12\n"
     ]
    }
   ],
   "source": [
    "# Using King, Washington data to train linear regression model\n",
    "metrics_dict, test_pred,actual_pred = Linear_Regression(Ki_hou_mor_train,Ki_hou_mor_topred, False, False)\n",
    "metrics_df = metrics_df.append(metrics_dict, ignore_index =True)"
   ]
  },
  {
   "cell_type": "markdown",
   "metadata": {},
   "source": [
    "<b>scaled training data:</b>"
   ]
  },
  {
   "cell_type": "code",
   "execution_count": 28,
   "metadata": {},
   "outputs": [
    {
     "name": "stdout",
     "output_type": "stream",
     "text": [
      "Test Prediction\n",
      "    Actual_test  Predicted_test\n",
      "95     735908.0   729531.461297\n",
      "78     662697.0   681437.333485\n",
      "17     516419.0   509354.876168\n",
      "R2 score for test prediction: 0.96\n",
      "\n",
      "Actual prediction\n",
      "          Date    Actual      Predicted\n",
      "102 2021-07-31  823806.0  749176.846839\n",
      "103 2021-08-31  837248.0  752049.521140\n",
      "104 2021-09-30  846358.0  754829.528528\n",
      "105 2021-10-31  851116.0  757702.202829\n",
      "106 2021-11-30  858319.0  760482.210217\n",
      "107 2021-12-31  867616.0  763354.884518\n",
      "108 2022-01-31  878396.0  766227.558819\n",
      "R2 score for actual prediction: -30.08\n"
     ]
    }
   ],
   "source": [
    "# Using Los Angeles, California data to train linear regression model\n",
    "metrics_dict, test_pred,actual_pred = Linear_Regression(LA_hou_mor_train, LA_hou_mor_topred,False, True)\n",
    "metrics_df = metrics_df.append(metrics_dict, ignore_index =True)"
   ]
  },
  {
   "cell_type": "code",
   "execution_count": 29,
   "metadata": {},
   "outputs": [
    {
     "name": "stdout",
     "output_type": "stream",
     "text": [
      "Test Prediction\n",
      "    Actual_test  Predicted_test\n",
      "95     480150.0   487876.767358\n",
      "78     439103.0   445671.002975\n",
      "17     288263.0   294657.314228\n",
      "R2 score for test prediction: 0.97\n",
      "\n",
      "Actual prediction\n",
      "          Date    Actual      Predicted\n",
      "102 2021-07-31  548111.0  505116.886913\n",
      "103 2021-08-31  558073.0  507637.847792\n",
      "104 2021-09-30  565270.0  510077.487352\n",
      "105 2021-10-31  571458.0  512598.448230\n",
      "106 2021-11-30  579038.0  515038.087790\n",
      "107 2021-12-31  588258.0  517559.048668\n",
      "108 2022-01-31  598233.0  520080.009546\n",
      "R2 score for actual prediction: -13.43\n"
     ]
    }
   ],
   "source": [
    "# Using Denver, Colorado data to train linear regression model\n",
    "metrics_dict, test_pred, actual_pred = Linear_Regression(De_hou_mor_train,De_hou_mor_topred, False, True)\n",
    "metrics_df = metrics_df.append(metrics_dict, ignore_index =True)"
   ]
  },
  {
   "cell_type": "code",
   "execution_count": 30,
   "metadata": {},
   "outputs": [
    {
     "name": "stdout",
     "output_type": "stream",
     "text": [
      "Test Prediction\n",
      "    Actual_test  Predicted_test\n",
      "95     274892.0   278514.994539\n",
      "78     253425.0   254970.046886\n",
      "17     168696.0   170725.407596\n",
      "R2 score for test prediction: 0.98\n",
      "\n",
      "Actual prediction\n",
      "          Date    Actual      Predicted\n",
      "102 2021-07-31  311657.0  288132.583946\n",
      "103 2021-08-31  319551.0  289538.929567\n",
      "104 2021-09-30  326735.0  290899.909200\n",
      "105 2021-10-31  332809.0  292306.254821\n",
      "106 2021-11-30  338271.0  293667.234454\n",
      "107 2021-12-31  344143.0  295073.580075\n",
      "108 2022-01-31  351550.0  296479.925696\n",
      "R2 score for actual prediction: -9.13\n"
     ]
    }
   ],
   "source": [
    "# Using Dallas, Texas data to train linear regression model\n",
    "metrics_dict, test_pred, actual_pred = Linear_Regression(Da_hou_mor_train,Da_hou_mor_topred, False, True)\n",
    "metrics_df = metrics_df.append(metrics_dict, ignore_index =True)"
   ]
  },
  {
   "cell_type": "code",
   "execution_count": 31,
   "metadata": {},
   "outputs": [
    {
     "name": "stdout",
     "output_type": "stream",
     "text": [
      "Test Prediction\n",
      "    Actual_test  Predicted_test\n",
      "95     262693.0   253205.912667\n",
      "78     241375.0   245066.219786\n",
      "17     218480.0   215942.116360\n",
      "R2 score for test prediction: 0.83\n",
      "\n",
      "Actual prediction\n",
      "          Date    Actual      Predicted\n",
      "102 2021-07-31  285177.0  256530.796849\n",
      "103 2021-08-31  288882.0  257016.982743\n",
      "104 2021-09-30  292112.0  257487.485222\n",
      "105 2021-10-31  295028.0  257973.671117\n",
      "106 2021-11-30  297984.0  258444.173595\n",
      "107 2021-12-31  301406.0  258930.359490\n",
      "108 2022-01-31  305036.0  259416.545384\n",
      "R2 score for actual prediction: -32.66\n"
     ]
    }
   ],
   "source": [
    "# Using Virginia Beach, Virginia data to train linear regression model\n",
    "metrics_dict, test_pred, actual_pred = Linear_Regression(VB_hou_mor_train,VB_hou_mor_topred, False, True)\n",
    "metrics_df = metrics_df.append(metrics_dict, ignore_index =True)"
   ]
  },
  {
   "cell_type": "code",
   "execution_count": 32,
   "metadata": {},
   "outputs": [
    {
     "name": "stdout",
     "output_type": "stream",
     "text": [
      "Test Prediction\n",
      "    Actual_test  Predicted_test\n",
      "95     588871.0   582410.529201\n",
      "78     507881.0   527807.189622\n",
      "17     331888.0   332434.546852\n",
      "R2 score for test prediction: 0.96\n",
      "\n",
      "Actual prediction\n",
      "          Date    Actual      Predicted\n",
      "102 2021-07-31  668077.0  604714.783518\n",
      "103 2021-08-31  681454.0  607976.254668\n",
      "104 2021-09-30  689764.0  611132.517071\n",
      "105 2021-10-31  697361.0  614393.988222\n",
      "106 2021-11-30  708330.0  617550.250625\n",
      "107 2021-12-31  719871.0  620811.721775\n",
      "108 2022-01-31  733604.0  624073.192925\n",
      "R2 score for actual prediction: -16.12\n"
     ]
    }
   ],
   "source": [
    "# Using King, Washington data to train linear regression model\n",
    "metrics_dict, test_pred, actual_pred = Linear_Regression(Ki_hou_mor_train,Ki_hou_mor_topred, False, True)\n",
    "metrics_df = metrics_df.append(metrics_dict, ignore_index =True)"
   ]
  },
  {
   "cell_type": "code",
   "execution_count": 33,
   "metadata": {
    "scrolled": false
   },
   "outputs": [
    {
     "data": {
      "text/html": [
       "<div>\n",
       "<style scoped>\n",
       "    .dataframe tbody tr th:only-of-type {\n",
       "        vertical-align: middle;\n",
       "    }\n",
       "\n",
       "    .dataframe tbody tr th {\n",
       "        vertical-align: top;\n",
       "    }\n",
       "\n",
       "    .dataframe thead th {\n",
       "        text-align: right;\n",
       "    }\n",
       "</style>\n",
       "<table border=\"1\" class=\"dataframe\">\n",
       "  <thead>\n",
       "    <tr style=\"text-align: right;\">\n",
       "      <th></th>\n",
       "      <th>county_state</th>\n",
       "      <th>mul_linear_reg</th>\n",
       "      <th>scale</th>\n",
       "      <th>R2</th>\n",
       "      <th>MAE</th>\n",
       "      <th>MSE</th>\n",
       "      <th>RMSE</th>\n",
       "    </tr>\n",
       "  </thead>\n",
       "  <tbody>\n",
       "    <tr>\n",
       "      <th>0</th>\n",
       "      <td>Los Angeles, California</td>\n",
       "      <td>1</td>\n",
       "      <td>0</td>\n",
       "      <td>0.96</td>\n",
       "      <td>10027.79</td>\n",
       "      <td>2.417569e+08</td>\n",
       "      <td>15548.53</td>\n",
       "    </tr>\n",
       "    <tr>\n",
       "      <th>1</th>\n",
       "      <td>Denver, Colorado</td>\n",
       "      <td>1</td>\n",
       "      <td>0</td>\n",
       "      <td>0.97</td>\n",
       "      <td>8251.81</td>\n",
       "      <td>1.125054e+08</td>\n",
       "      <td>10606.86</td>\n",
       "    </tr>\n",
       "    <tr>\n",
       "      <th>2</th>\n",
       "      <td>Dallas, Texas</td>\n",
       "      <td>1</td>\n",
       "      <td>0</td>\n",
       "      <td>0.99</td>\n",
       "      <td>2896.51</td>\n",
       "      <td>2.016231e+07</td>\n",
       "      <td>4490.25</td>\n",
       "    </tr>\n",
       "    <tr>\n",
       "      <th>3</th>\n",
       "      <td>Virginia Beach, Virginia</td>\n",
       "      <td>1</td>\n",
       "      <td>0</td>\n",
       "      <td>0.87</td>\n",
       "      <td>4179.71</td>\n",
       "      <td>3.269075e+07</td>\n",
       "      <td>5717.58</td>\n",
       "    </tr>\n",
       "    <tr>\n",
       "      <th>4</th>\n",
       "      <td>King, Washington</td>\n",
       "      <td>1</td>\n",
       "      <td>0</td>\n",
       "      <td>0.96</td>\n",
       "      <td>12755.23</td>\n",
       "      <td>2.759199e+08</td>\n",
       "      <td>16610.84</td>\n",
       "    </tr>\n",
       "    <tr>\n",
       "      <th>5</th>\n",
       "      <td>Los Angeles, California</td>\n",
       "      <td>1</td>\n",
       "      <td>1</td>\n",
       "      <td>0.96</td>\n",
       "      <td>10027.79</td>\n",
       "      <td>2.417569e+08</td>\n",
       "      <td>15548.53</td>\n",
       "    </tr>\n",
       "    <tr>\n",
       "      <th>6</th>\n",
       "      <td>Denver, Colorado</td>\n",
       "      <td>1</td>\n",
       "      <td>1</td>\n",
       "      <td>0.97</td>\n",
       "      <td>8251.81</td>\n",
       "      <td>1.125054e+08</td>\n",
       "      <td>10606.86</td>\n",
       "    </tr>\n",
       "    <tr>\n",
       "      <th>7</th>\n",
       "      <td>Dallas, Texas</td>\n",
       "      <td>1</td>\n",
       "      <td>1</td>\n",
       "      <td>0.99</td>\n",
       "      <td>2896.51</td>\n",
       "      <td>2.016231e+07</td>\n",
       "      <td>4490.25</td>\n",
       "    </tr>\n",
       "    <tr>\n",
       "      <th>8</th>\n",
       "      <td>Virginia Beach, Virginia</td>\n",
       "      <td>1</td>\n",
       "      <td>1</td>\n",
       "      <td>0.87</td>\n",
       "      <td>4179.71</td>\n",
       "      <td>3.269075e+07</td>\n",
       "      <td>5717.58</td>\n",
       "    </tr>\n",
       "    <tr>\n",
       "      <th>9</th>\n",
       "      <td>King, Washington</td>\n",
       "      <td>1</td>\n",
       "      <td>1</td>\n",
       "      <td>0.96</td>\n",
       "      <td>12755.23</td>\n",
       "      <td>2.759199e+08</td>\n",
       "      <td>16610.84</td>\n",
       "    </tr>\n",
       "    <tr>\n",
       "      <th>10</th>\n",
       "      <td>Los Angeles, California</td>\n",
       "      <td>0</td>\n",
       "      <td>0</td>\n",
       "      <td>0.96</td>\n",
       "      <td>9929.13</td>\n",
       "      <td>2.265975e+08</td>\n",
       "      <td>15053.16</td>\n",
       "    </tr>\n",
       "    <tr>\n",
       "      <th>11</th>\n",
       "      <td>Denver, Colorado</td>\n",
       "      <td>0</td>\n",
       "      <td>0</td>\n",
       "      <td>0.97</td>\n",
       "      <td>8680.02</td>\n",
       "      <td>1.082248e+08</td>\n",
       "      <td>10403.11</td>\n",
       "    </tr>\n",
       "    <tr>\n",
       "      <th>12</th>\n",
       "      <td>Dallas, Texas</td>\n",
       "      <td>0</td>\n",
       "      <td>0</td>\n",
       "      <td>0.98</td>\n",
       "      <td>3458.25</td>\n",
       "      <td>2.122138e+07</td>\n",
       "      <td>4606.67</td>\n",
       "    </tr>\n",
       "    <tr>\n",
       "      <th>13</th>\n",
       "      <td>Virginia Beach, Virginia</td>\n",
       "      <td>0</td>\n",
       "      <td>0</td>\n",
       "      <td>0.83</td>\n",
       "      <td>4986.37</td>\n",
       "      <td>4.369292e+07</td>\n",
       "      <td>6610.06</td>\n",
       "    </tr>\n",
       "    <tr>\n",
       "      <th>14</th>\n",
       "      <td>King, Washington</td>\n",
       "      <td>0</td>\n",
       "      <td>0</td>\n",
       "      <td>0.96</td>\n",
       "      <td>13533.84</td>\n",
       "      <td>2.785080e+08</td>\n",
       "      <td>16688.56</td>\n",
       "    </tr>\n",
       "    <tr>\n",
       "      <th>15</th>\n",
       "      <td>Los Angeles, California</td>\n",
       "      <td>0</td>\n",
       "      <td>1</td>\n",
       "      <td>0.96</td>\n",
       "      <td>9929.13</td>\n",
       "      <td>2.265975e+08</td>\n",
       "      <td>15053.16</td>\n",
       "    </tr>\n",
       "    <tr>\n",
       "      <th>16</th>\n",
       "      <td>Denver, Colorado</td>\n",
       "      <td>0</td>\n",
       "      <td>1</td>\n",
       "      <td>0.97</td>\n",
       "      <td>8680.02</td>\n",
       "      <td>1.082248e+08</td>\n",
       "      <td>10403.11</td>\n",
       "    </tr>\n",
       "    <tr>\n",
       "      <th>17</th>\n",
       "      <td>Dallas, Texas</td>\n",
       "      <td>0</td>\n",
       "      <td>1</td>\n",
       "      <td>0.98</td>\n",
       "      <td>3458.25</td>\n",
       "      <td>2.122138e+07</td>\n",
       "      <td>4606.67</td>\n",
       "    </tr>\n",
       "    <tr>\n",
       "      <th>18</th>\n",
       "      <td>Virginia Beach, Virginia</td>\n",
       "      <td>0</td>\n",
       "      <td>1</td>\n",
       "      <td>0.83</td>\n",
       "      <td>4986.37</td>\n",
       "      <td>4.369292e+07</td>\n",
       "      <td>6610.06</td>\n",
       "    </tr>\n",
       "    <tr>\n",
       "      <th>19</th>\n",
       "      <td>King, Washington</td>\n",
       "      <td>0</td>\n",
       "      <td>1</td>\n",
       "      <td>0.96</td>\n",
       "      <td>13533.84</td>\n",
       "      <td>2.785080e+08</td>\n",
       "      <td>16688.56</td>\n",
       "    </tr>\n",
       "  </tbody>\n",
       "</table>\n",
       "</div>"
      ],
      "text/plain": [
       "                county_state mul_linear_reg scale    R2       MAE  \\\n",
       "0    Los Angeles, California              1     0  0.96  10027.79   \n",
       "1           Denver, Colorado              1     0  0.97   8251.81   \n",
       "2              Dallas, Texas              1     0  0.99   2896.51   \n",
       "3   Virginia Beach, Virginia              1     0  0.87   4179.71   \n",
       "4           King, Washington              1     0  0.96  12755.23   \n",
       "5    Los Angeles, California              1     1  0.96  10027.79   \n",
       "6           Denver, Colorado              1     1  0.97   8251.81   \n",
       "7              Dallas, Texas              1     1  0.99   2896.51   \n",
       "8   Virginia Beach, Virginia              1     1  0.87   4179.71   \n",
       "9           King, Washington              1     1  0.96  12755.23   \n",
       "10   Los Angeles, California              0     0  0.96   9929.13   \n",
       "11          Denver, Colorado              0     0  0.97   8680.02   \n",
       "12             Dallas, Texas              0     0  0.98   3458.25   \n",
       "13  Virginia Beach, Virginia              0     0  0.83   4986.37   \n",
       "14          King, Washington              0     0  0.96  13533.84   \n",
       "15   Los Angeles, California              0     1  0.96   9929.13   \n",
       "16          Denver, Colorado              0     1  0.97   8680.02   \n",
       "17             Dallas, Texas              0     1  0.98   3458.25   \n",
       "18  Virginia Beach, Virginia              0     1  0.83   4986.37   \n",
       "19          King, Washington              0     1  0.96  13533.84   \n",
       "\n",
       "             MSE      RMSE  \n",
       "0   2.417569e+08  15548.53  \n",
       "1   1.125054e+08  10606.86  \n",
       "2   2.016231e+07   4490.25  \n",
       "3   3.269075e+07   5717.58  \n",
       "4   2.759199e+08  16610.84  \n",
       "5   2.417569e+08  15548.53  \n",
       "6   1.125054e+08  10606.86  \n",
       "7   2.016231e+07   4490.25  \n",
       "8   3.269075e+07   5717.58  \n",
       "9   2.759199e+08  16610.84  \n",
       "10  2.265975e+08  15053.16  \n",
       "11  1.082248e+08  10403.11  \n",
       "12  2.122138e+07   4606.67  \n",
       "13  4.369292e+07   6610.06  \n",
       "14  2.785080e+08  16688.56  \n",
       "15  2.265975e+08  15053.16  \n",
       "16  1.082248e+08  10403.11  \n",
       "17  2.122138e+07   4606.67  \n",
       "18  4.369292e+07   6610.06  \n",
       "19  2.785080e+08  16688.56  "
      ]
     },
     "execution_count": 33,
     "metadata": {},
     "output_type": "execute_result"
    }
   ],
   "source": [
    "metrics_df"
   ]
  },
  {
   "cell_type": "markdown",
   "metadata": {},
   "source": [
    "In general, both linear regression models with and without scaling have good R2 score and other model metrics while testing. \n",
    "The predicted values show negative R2 score. We can see if a time series model would work better."
   ]
  },
  {
   "cell_type": "markdown",
   "metadata": {},
   "source": [
    "# Time Series Ananlysis and modelling"
   ]
  },
  {
   "cell_type": "markdown",
   "metadata": {},
   "source": [
    "Since there is no correlation between covid case numbers and the housing prices, we can try training an univariate time series model and see if the predictions come as near to the actual housing price values between July 2021 and January 2022."
   ]
  },
  {
   "cell_type": "markdown",
   "metadata": {},
   "source": [
    "<b>For Dalla, Texas:</b>"
   ]
  },
  {
   "cell_type": "code",
   "execution_count": 34,
   "metadata": {},
   "outputs": [
    {
     "data": {
      "text/plain": [
       "Index(['state_name', 'county_name', 'Date', 'Price', 'mortgage_int_rate',\n",
       "       'Date_ord'],\n",
       "      dtype='object')"
      ]
     },
     "execution_count": 34,
     "metadata": {},
     "output_type": "execute_result"
    }
   ],
   "source": [
    "Da_hou_mor_train.columns"
   ]
  },
  {
   "cell_type": "code",
   "execution_count": 35,
   "metadata": {},
   "outputs": [],
   "source": [
    "Da_hou_mor_ts =Da_hou_mor_train[[\"Date\",\"Price\",\"mortgage_int_rate\"]]"
   ]
  },
  {
   "cell_type": "code",
   "execution_count": 36,
   "metadata": {},
   "outputs": [
    {
     "data": {
      "text/html": [
       "<div>\n",
       "<style scoped>\n",
       "    .dataframe tbody tr th:only-of-type {\n",
       "        vertical-align: middle;\n",
       "    }\n",
       "\n",
       "    .dataframe tbody tr th {\n",
       "        vertical-align: top;\n",
       "    }\n",
       "\n",
       "    .dataframe thead th {\n",
       "        text-align: right;\n",
       "    }\n",
       "</style>\n",
       "<table border=\"1\" class=\"dataframe\">\n",
       "  <thead>\n",
       "    <tr style=\"text-align: right;\">\n",
       "      <th></th>\n",
       "      <th>Price</th>\n",
       "      <th>mortgage_int_rate</th>\n",
       "    </tr>\n",
       "    <tr>\n",
       "      <th>Date</th>\n",
       "      <th></th>\n",
       "      <th></th>\n",
       "    </tr>\n",
       "  </thead>\n",
       "  <tbody>\n",
       "    <tr>\n",
       "      <th>2013-01-31</th>\n",
       "      <td>151014.0</td>\n",
       "      <td>3.4140</td>\n",
       "    </tr>\n",
       "    <tr>\n",
       "      <th>2013-02-28</th>\n",
       "      <td>151698.0</td>\n",
       "      <td>3.5325</td>\n",
       "    </tr>\n",
       "    <tr>\n",
       "      <th>2013-03-31</th>\n",
       "      <td>152650.0</td>\n",
       "      <td>3.5650</td>\n",
       "    </tr>\n",
       "    <tr>\n",
       "      <th>2013-04-30</th>\n",
       "      <td>153618.0</td>\n",
       "      <td>3.4450</td>\n",
       "    </tr>\n",
       "    <tr>\n",
       "      <th>2013-05-31</th>\n",
       "      <td>154697.0</td>\n",
       "      <td>3.5360</td>\n",
       "    </tr>\n",
       "  </tbody>\n",
       "</table>\n",
       "</div>"
      ],
      "text/plain": [
       "               Price  mortgage_int_rate\n",
       "Date                                   \n",
       "2013-01-31  151014.0             3.4140\n",
       "2013-02-28  151698.0             3.5325\n",
       "2013-03-31  152650.0             3.5650\n",
       "2013-04-30  153618.0             3.4450\n",
       "2013-05-31  154697.0             3.5360"
      ]
     },
     "execution_count": 36,
     "metadata": {},
     "output_type": "execute_result"
    }
   ],
   "source": [
    "Da_hou_mor_ts.set_index(Da_hou_mor_ts['Date'], inplace=True)\n",
    "Da_hou_mor_ts.drop('Date',axis=1, inplace = True)\n",
    "Da_hou_mor_ts.head()"
   ]
  },
  {
   "cell_type": "code",
   "execution_count": 37,
   "metadata": {},
   "outputs": [
    {
     "data": {
      "text/plain": [
       "<AxesSubplot:xlabel='Date'>"
      ]
     },
     "execution_count": 37,
     "metadata": {},
     "output_type": "execute_result"
    },
    {
     "data": {
      "image/png": "[encoded data removed]",
      "text/plain": [
       "<Figure size 432x288 with 1 Axes>"
      ]
     },
     "metadata": {},
     "output_type": "display_data"
    }
   ],
   "source": [
    "Da_hou_mor_ts.mortgage_int_rate.plot()"
   ]
  },
  {
   "cell_type": "code",
   "execution_count": 38,
   "metadata": {},
   "outputs": [
    {
     "data": {
      "text/plain": [
       "<AxesSubplot:xlabel='Date'>"
      ]
     },
     "execution_count": 38,
     "metadata": {},
     "output_type": "execute_result"
    },
    {
     "data": {
      "image/png": "[encoded data removed]",
      "text/plain": [
       "<Figure size 720x576 with 1 Axes>"
      ]
     },
     "metadata": {},
     "output_type": "display_data"
    }
   ],
   "source": [
    "plt.figure(figsize=(10,8))\n",
    "Da_hou_mor_ts.Price.plot()"
   ]
  },
  {
   "cell_type": "markdown",
   "metadata": {},
   "source": [
    "The housing price shows trend, but no seasonality is intuitively visible. We can decompose and see for different components."
   ]
  },
  {
   "cell_type": "code",
   "execution_count": 39,
   "metadata": {},
   "outputs": [
    {
     "data": {
      "image/png": "[encoded data removed]",
      "text/plain": [
       "<Figure size 720x576 with 4 Axes>"
      ]
     },
     "metadata": {},
     "output_type": "display_data"
    }
   ],
   "source": [
    "from statsmodels.tsa.seasonal import seasonal_decompose\n",
    "decompose = seasonal_decompose(Da_hou_mor_ts.Price, model='additive')\n",
    "trend = decompose.trend\n",
    "seasonal = decompose.seasonal\n",
    "residual = decompose.resid\n",
    "plt.figure(figsize=(10,8))\n",
    "# Plot the original data, the trend, the seasonality, and the residuals \n",
    "plt.subplot(4,1,1)\n",
    "plt.plot(Da_hou_mor_ts.Price, label = 'actual housing price data')\n",
    "plt.legend(loc = 'best')\n",
    "plt.subplot(4,1,2)\n",
    "plt.plot(trend, label = 'Trend')\n",
    "plt.legend(loc = 'best')\n",
    "plt.subplot(4,1,3)\n",
    "plt.plot(seasonal, label = 'Seasonality')\n",
    "plt.legend(loc = 'best')\n",
    "plt.subplot(4,1,4)\n",
    "plt.plot(residual, label = 'Residuals')\n",
    "plt.legend(loc = 'best')\n",
    "plt.tight_layout()"
   ]
  },
  {
   "cell_type": "markdown",
   "metadata": {},
   "source": [
    "Looks like there is a small seasonality and good trend in the data."
   ]
  },
  {
   "cell_type": "markdown",
   "metadata": {},
   "source": [
    "<b>Dickey Fuller and kpss test for stationarity of the time series</b>"
   ]
  },
  {
   "cell_type": "code",
   "execution_count": 40,
   "metadata": {},
   "outputs": [
    {
     "name": "stdout",
     "output_type": "stream",
     "text": [
      "KPSS Statistic: 0.8470488187991455\n",
      "p-value: 0.01\n",
      "num lags: 13\n",
      "Critial Values:\n",
      "   10% : 0.347\n",
      "   5% : 0.463\n",
      "   2.5% : 0.574\n",
      "   1% : 0.739\n",
      "The series is not stationary\n"
     ]
    }
   ],
   "source": [
    "from statsmodels.tsa.stattools import kpss\n",
    "statistic, p_value, n_lags, critical_values = kpss(Da_hou_mor_ts.Price)\n",
    "print(f'KPSS Statistic: {statistic}')\n",
    "print(f'p-value: {p_value}')\n",
    "print(f'num lags: {n_lags}')\n",
    "print('Critial Values:')\n",
    "for key, value in critical_values.items():\n",
    "    print(f'   {key} : {value}')\n",
    "print(f'The series is {\"not \" if p_value < 0.05 else \"\"}stationary')"
   ]
  },
  {
   "cell_type": "code",
   "execution_count": 41,
   "metadata": {},
   "outputs": [
    {
     "name": "stdout",
     "output_type": "stream",
     "text": [
      "ADF Statistic: 1.632804\n",
      "p-value: 0.997953\n",
      "Critical Values:\n",
      "\t1%: -3.506\n",
      "\t5%: -2.895\n",
      "\t10%: -2.584\n",
      "Time Series is Non-Stationary\n"
     ]
    }
   ],
   "source": [
    "from statsmodels.tsa.stattools import adfuller\n",
    "result = adfuller(Da_hou_mor_ts.Price, autolag='AIC')\n",
    "print('ADF Statistic: %f' % result[0])\n",
    "print('p-value: %f' % result[1])\n",
    "print('Critical Values:')\n",
    "\n",
    "for key, value in result[4].items():\n",
    "    print('\\t%s: %.3f' % (key, value))\n",
    "if result[0] < result[4][\"5%\"]:\n",
    "    print (\"Time Series is Stationary\")\n",
    "else:\n",
    "    print (\"Time Series is Non-Stationary\")"
   ]
  },
  {
   "cell_type": "markdown",
   "metadata": {},
   "source": [
    "We can make the data stationary by differencing our data. "
   ]
  },
  {
   "cell_type": "markdown",
   "metadata": {},
   "source": [
    "Only differencing this time series data and trying for a best ARIMA parameters gave a large MSE values. So taking log transform and then differencing may give a smaller mse values."
   ]
  },
  {
   "cell_type": "code",
   "execution_count": 42,
   "metadata": {},
   "outputs": [],
   "source": [
    "Price_log = np.log(Da_hou_mor_ts.Price)"
   ]
  },
  {
   "cell_type": "code",
   "execution_count": 43,
   "metadata": {},
   "outputs": [
    {
     "name": "stdout",
     "output_type": "stream",
     "text": [
      "KPSS Statistic: 0.8393810647581237\n",
      "p-value: 0.01\n",
      "num lags: 13\n",
      "Critial Values:\n",
      "   10% : 0.347\n",
      "   5% : 0.463\n",
      "   2.5% : 0.574\n",
      "   1% : 0.739\n",
      "The series is not stationary\n"
     ]
    }
   ],
   "source": [
    "# Log transform to make the series stationary\n",
    "statistic, p_value, n_lags, critical_values = kpss(Price_log.dropna())\n",
    "print(f'KPSS Statistic: {statistic}')\n",
    "print(f'p-value: {p_value}')\n",
    "print(f'num lags: {n_lags}')\n",
    "print('Critial Values:')\n",
    "for key, value in critical_values.items():\n",
    "    print(f'   {key} : {value}')\n",
    "print(f'The series is {\"not \" if p_value < 0.05 else \"\"}stationary')"
   ]
  },
  {
   "cell_type": "code",
   "execution_count": 44,
   "metadata": {},
   "outputs": [
    {
     "name": "stdout",
     "output_type": "stream",
     "text": [
      "KPSS Statistic: 0.09385562783084714\n",
      "p-value: 0.1\n",
      "num lags: 13\n",
      "Critial Values:\n",
      "   10% : 0.347\n",
      "   5% : 0.463\n",
      "   2.5% : 0.574\n",
      "   1% : 0.739\n",
      "The series is stationary\n"
     ]
    }
   ],
   "source": [
    "# Adding first difference to see if the series becomes stationary\n",
    "statistic, p_value, n_lags, critical_values = kpss(Price_log.diff(periods=1).dropna())\n",
    "print(f'KPSS Statistic: {statistic}')\n",
    "print(f'p-value: {p_value}')\n",
    "print(f'num lags: {n_lags}')\n",
    "print('Critial Values:')\n",
    "for key, value in critical_values.items():\n",
    "    print(f'   {key} : {value}')\n",
    "print(f'The series is {\"not \" if p_value < 0.05 else \"\"}stationary')"
   ]
  },
  {
   "cell_type": "markdown",
   "metadata": {},
   "source": [
    "Now the data is stationary and we can use to train the model."
   ]
  },
  {
   "cell_type": "code",
   "execution_count": 45,
   "metadata": {},
   "outputs": [
    {
     "data": {
      "text/plain": [
       "Date\n",
       "2013-01-31    11.925128\n",
       "2013-02-28    11.929647\n",
       "2013-03-31    11.935903\n",
       "2013-04-30    11.942224\n",
       "2013-05-31    11.949224\n",
       "Name: Price, dtype: float64"
      ]
     },
     "execution_count": 45,
     "metadata": {},
     "output_type": "execute_result"
    }
   ],
   "source": [
    "Price_log.head()"
   ]
  },
  {
   "cell_type": "code",
   "execution_count": 46,
   "metadata": {},
   "outputs": [],
   "source": [
    "# Import required packages\n",
    "from statsmodels.graphics.tsaplots import plot_acf, plot_pacf\n",
    "from statsmodels.tsa.arima_model import ARIMA"
   ]
  },
  {
   "cell_type": "markdown",
   "metadata": {},
   "source": [
    " <b>Plotting ACF and PACF plot to choose model order</b>"
   ]
  },
  {
   "cell_type": "code",
   "execution_count": 47,
   "metadata": {},
   "outputs": [
    {
     "data": {
      "image/png": "[encoded data removed]",
      "text/plain": [
       "<Figure size 432x288 with 1 Axes>"
      ]
     },
     "metadata": {},
     "output_type": "display_data"
    }
   ],
   "source": [
    "plot_acf(Price_log, lags = 20)\n",
    "plt.show()"
   ]
  },
  {
   "cell_type": "code",
   "execution_count": 48,
   "metadata": {},
   "outputs": [
    {
     "data": {
      "image/png": "[encoded data removed]",
      "text/plain": [
       "<Figure size 432x288 with 1 Axes>"
      ]
     },
     "metadata": {},
     "output_type": "display_data"
    }
   ],
   "source": [
    "plot_pacf(Price_log, lags=20)\n",
    "plt.show()"
   ]
  },
  {
   "cell_type": "markdown",
   "metadata": {},
   "source": [
    "The above plots have ACF that is tailing off and PACF cutting off at lag p = 1. So this is a AR(1) model. "
   ]
  },
  {
   "cell_type": "code",
   "execution_count": 49,
   "metadata": {},
   "outputs": [],
   "source": [
    "model = ARIMA(Price_log, order=(1,1,0))\n",
    "model_fit = model.fit()\n",
    "forecast = model_fit.forecast(7)"
   ]
  },
  {
   "cell_type": "code",
   "execution_count": 50,
   "metadata": {},
   "outputs": [
    {
     "data": {
      "text/plain": [
       "array([12.64869109, 12.67307299, 12.6974549 , 12.7218368 , 12.74621871,\n",
       "       12.77060061, 12.79498252])"
      ]
     },
     "execution_count": 50,
     "metadata": {},
     "output_type": "execute_result"
    }
   ],
   "source": [
    "forecast[0]"
   ]
  },
  {
   "cell_type": "code",
   "execution_count": 51,
   "metadata": {},
   "outputs": [
    {
     "data": {
      "text/html": [
       "<table class=\"simpletable\">\n",
       "<caption>ARIMA Model Results</caption>\n",
       "<tr>\n",
       "  <th>Dep. Variable:</th>      <td>D.Price</td>     <th>  No. Observations:  </th>    <td>101</td>  \n",
       "</tr>\n",
       "<tr>\n",
       "  <th>Model:</th>          <td>ARIMA(1, 1, 0)</td>  <th>  Log Likelihood     </th>  <td>498.682</td>\n",
       "</tr>\n",
       "<tr>\n",
       "  <th>Method:</th>             <td>css-mle</td>     <th>  S.D. of innovations</th>   <td>0.002</td> \n",
       "</tr>\n",
       "<tr>\n",
       "  <th>Date:</th>          <td>Fri, 18 Mar 2022</td> <th>  AIC                </th> <td>-991.365</td>\n",
       "</tr>\n",
       "<tr>\n",
       "  <th>Time:</th>              <td>12:28:56</td>     <th>  BIC                </th> <td>-983.519</td>\n",
       "</tr>\n",
       "<tr>\n",
       "  <th>Sample:</th>           <td>02-28-2013</td>    <th>  HQIC               </th> <td>-988.189</td>\n",
       "</tr>\n",
       "<tr>\n",
       "  <th></th>                 <td>- 06-30-2021</td>   <th>                     </th>     <td> </td>   \n",
       "</tr>\n",
       "</table>\n",
       "<table class=\"simpletable\">\n",
       "<tr>\n",
       "        <td></td>           <th>coef</th>     <th>std err</th>      <th>z</th>      <th>P>|z|</th>  <th>[0.025</th>    <th>0.975]</th>  \n",
       "</tr>\n",
       "<tr>\n",
       "  <th>const</th>         <td>    0.0142</td> <td>      nan</td> <td>      nan</td> <td>   nan</td> <td>      nan</td> <td>      nan</td>\n",
       "</tr>\n",
       "<tr>\n",
       "  <th>ar.L1.D.Price</th> <td>    1.0000</td> <td>      nan</td> <td>      nan</td> <td>   nan</td> <td>      nan</td> <td>      nan</td>\n",
       "</tr>\n",
       "</table>\n",
       "<table class=\"simpletable\">\n",
       "<caption>Roots</caption>\n",
       "<tr>\n",
       "    <td></td>   <th>            Real</th>  <th>         Imaginary</th> <th>         Modulus</th>  <th>        Frequency</th>\n",
       "</tr>\n",
       "<tr>\n",
       "  <th>AR.1</th> <td>           1.0000</td> <td>          +0.0000j</td> <td>           1.0000</td> <td>           0.0000</td>\n",
       "</tr>\n",
       "</table>"
      ],
      "text/plain": [
       "<class 'statsmodels.iolib.summary.Summary'>\n",
       "\"\"\"\n",
       "                             ARIMA Model Results                              \n",
       "==============================================================================\n",
       "Dep. Variable:                D.Price   No. Observations:                  101\n",
       "Model:                 ARIMA(1, 1, 0)   Log Likelihood                 498.682\n",
       "Method:                       css-mle   S.D. of innovations              0.002\n",
       "Date:                Fri, 18 Mar 2022   AIC                           -991.365\n",
       "Time:                        12:28:56   BIC                           -983.519\n",
       "Sample:                    02-28-2013   HQIC                          -988.189\n",
       "                         - 06-30-2021                                         \n",
       "=================================================================================\n",
       "                    coef    std err          z      P>|z|      [0.025      0.975]\n",
       "---------------------------------------------------------------------------------\n",
       "const             0.0142        nan        nan        nan         nan         nan\n",
       "ar.L1.D.Price     1.0000        nan        nan        nan         nan         nan\n",
       "                                    Roots                                    \n",
       "=============================================================================\n",
       "                  Real          Imaginary           Modulus         Frequency\n",
       "-----------------------------------------------------------------------------\n",
       "AR.1            1.0000           +0.0000j            1.0000            0.0000\n",
       "-----------------------------------------------------------------------------\n",
       "\"\"\""
      ]
     },
     "execution_count": 51,
     "metadata": {},
     "output_type": "execute_result"
    }
   ],
   "source": [
    "model_fit.summary()"
   ]
  },
  {
   "cell_type": "code",
   "execution_count": 52,
   "metadata": {},
   "outputs": [
    {
     "data": {
      "text/plain": [
       "<matplotlib.legend.Legend at 0x1f1bf0b7880>"
      ]
     },
     "execution_count": 52,
     "metadata": {},
     "output_type": "execute_result"
    },
    {
     "data": {
      "image/png": "[encoded data removed]",
      "text/plain": [
       "<Figure size 1080x360 with 1 Axes>"
      ]
     },
     "metadata": {},
     "output_type": "display_data"
    }
   ],
   "source": [
    "# plot the actual vs predicted (transformed and differenced) data\n",
    "plt.figure(figsize=(15,5))\n",
    "plt.plot(Price_log.diff(periods=1), label=\"actual\")\n",
    "plt.plot(model_fit.predict(), color = 'red', label=\"predicted\")\n",
    "plt.xlabel(\"Year\")\n",
    "plt.ylabel(\"Actual vs predicted\")\n",
    "plt.legend()"
   ]
  },
  {
   "cell_type": "code",
   "execution_count": 53,
   "metadata": {},
   "outputs": [
    {
     "data": {
      "image/png": "[encoded data removed]",
      "text/plain": [
       "<Figure size 1080x360 with 1 Axes>"
      ]
     },
     "metadata": {},
     "output_type": "display_data"
    }
   ],
   "source": [
    "# Declare a variable called forecast_period with the amount of months to forecast, and\n",
    "# create a range of future dates that is the length of the periods you've chosen to forecast\n",
    "forecast_period= 8\n",
    "date_range = pd.date_range(\"2021-07-31\", periods = forecast_period, \n",
    "              freq='M').strftime(\"%Y-%m-%d\").tolist()\n",
    "\n",
    "# Convert that range into a dataframe that includes your predictions\n",
    "# First, call DataFrame on pd\n",
    "future_months = pd.DataFrame(date_range, columns = ['Date'])\n",
    "# Let's now convert the 'Month' column to a datetime object with to_datetime \n",
    "future_months['Date'] = pd.to_datetime(future_months['Date'])\n",
    "\n",
    "df = pd.DataFrame(forecast[0])\n",
    "future_months['Prediction'] = df.iloc[:,0]\n",
    "future_months.set_index('Date', inplace = True)\n",
    "\n",
    "# Plot your future predictions\n",
    "plt.figure(figsize=(15,5))\n",
    "plt.plot(Price_log)\n",
    "plt.plot(Price_log['Jun 2021'].append(future_months['Prediction']), label=\"predicted between Jul 2021 - Jan 2022\")\n",
    "plt.title(\"Log transformed housing price training + predicted data\")\n",
    "plt.xlabel(\"Year\")\n",
    "plt.ylabel(\"log transformed housing price\")\n",
    "plt.legend()\n",
    "plt.show()"
   ]
  },
  {
   "cell_type": "code",
   "execution_count": 54,
   "metadata": {},
   "outputs": [],
   "source": [
    "Da_hou_mor_ts_p =Da_hou_mor_topred[[\"Date\",\"Price\",\"mortgage_int_rate\"]]\n",
    "\n",
    "Da_hou_mor_ts_p.set_index(Da_hou_mor_ts_p['Date'], inplace=True)\n",
    "Da_hou_mor_ts_p.drop('Date',axis=1, inplace = True)"
   ]
  },
  {
   "cell_type": "code",
   "execution_count": 55,
   "metadata": {},
   "outputs": [
    {
     "data": {
      "image/png": "[encoded data removed]",
      "text/plain": [
       "<Figure size 1080x360 with 1 Axes>"
      ]
     },
     "metadata": {},
     "output_type": "display_data"
    }
   ],
   "source": [
    "# Now plot the original Da_hou_mor_ts\n",
    "# Use the same functions as before\n",
    "plt.figure(figsize=(15,5))\n",
    "plt.plot(Da_hou_mor_ts.Price)\n",
    "plt.plot(np.exp(Price_log['Jun 2021'].append(future_months['Prediction'])), label=\"predicted between Jul 2021 - Jan 2022\")\n",
    "plt.plot(Da_hou_mor_ts_p.Price, label=\"actual between Jul 2021 - Jan 2022\")\n",
    "plt.title(\"Housing Price in Dallas, Texas\")\n",
    "plt.xlabel(\"Year\")\n",
    "plt.ylabel(\"Housing Price $\")\n",
    "plt.legend()\n",
    "plt.show()"
   ]
  },
  {
   "cell_type": "markdown",
   "metadata": {},
   "source": [
    "Plot the whole future actual data with the above graph to see the difference."
   ]
  },
  {
   "cell_type": "code",
   "execution_count": 56,
   "metadata": {},
   "outputs": [
    {
     "data": {
      "text/plain": [
       "Date\n",
       "2021-07-31    311355.644431\n",
       "2021-08-31    319040.391880\n",
       "2021-09-30    326914.810982\n",
       "2021-10-31    334983.583130\n",
       "2021-11-30    343251.505263\n",
       "2021-12-31    351723.492715\n",
       "2022-01-31    360404.582140\n",
       "2022-02-28              NaN\n",
       "Name: Prediction, dtype: float64"
      ]
     },
     "execution_count": 56,
     "metadata": {},
     "output_type": "execute_result"
    }
   ],
   "source": [
    "np.exp(future_months['Prediction'])"
   ]
  },
  {
   "cell_type": "code",
   "execution_count": 57,
   "metadata": {},
   "outputs": [
    {
     "data": {
      "text/plain": [
       "Date\n",
       "2021-07-31    311657.0\n",
       "2021-08-31    319551.0\n",
       "2021-09-30    326735.0\n",
       "2021-10-31    332809.0\n",
       "2021-11-30    338271.0\n",
       "2021-12-31    344143.0\n",
       "2022-01-31    351550.0\n",
       "Name: Price, dtype: float64"
      ]
     },
     "execution_count": 57,
     "metadata": {},
     "output_type": "execute_result"
    }
   ],
   "source": [
    "Da_hou_mor_ts_p.Price"
   ]
  },
  {
   "cell_type": "code",
   "execution_count": 58,
   "metadata": {},
   "outputs": [
    {
     "data": {
      "image/png": "[encoded data removed]",
      "text/plain": [
       "<Figure size 1080x360 with 1 Axes>"
      ]
     },
     "metadata": {},
     "output_type": "display_data"
    }
   ],
   "source": [
    "# Now plot the original Da_hou_mor_ts\n",
    "# Use the same functions as before\n",
    "plt.figure(figsize=(15,5))\n",
    "plt.plot(np.exp(future_months['Prediction']),label=\"predicted between Jul 2021 - Jan 2022\")\n",
    "plt.plot(Da_hou_mor_ts_p.Price, label=\"actual between Jul 2021 - Jan 2022\")\n",
    "plt.title(\"Housing Price in Dallas, Texas between Jul 2021 - Jan 2022\")\n",
    "plt.xlabel(\"Year\")\n",
    "plt.ylabel(\"Housing Price $\")\n",
    "plt.legend()\n",
    "plt.show()"
   ]
  },
  {
   "cell_type": "markdown",
   "metadata": {},
   "source": [
    "For Dallas, Texas , the time series prediction matches almost with the actual housing price values. Univariate time series model can be used to predict the housing price."
   ]
  },
  {
   "cell_type": "markdown",
   "metadata": {},
   "source": [
    "# Random Forest model"
   ]
  },
  {
   "cell_type": "code",
   "execution_count": 59,
   "metadata": {},
   "outputs": [],
   "source": [
    "X_train, X_test, y_train, y_test = train_test_split(LA_hou_mor_train[[\"Date_ord\",\"mortgage_int_rate\"]], \n",
    "                                                    LA_hou_mor_train.Price, test_size=0.25, \n",
    "                                                    random_state=1)"
   ]
  },
  {
   "cell_type": "code",
   "execution_count": 60,
   "metadata": {},
   "outputs": [],
   "source": [
    "# Defining Pipeline\n",
    "RF_pipe = make_pipeline(\n",
    "    StandardScaler(),\n",
    "    RandomForestRegressor(random_state=47)\n",
    ")"
   ]
  },
  {
   "cell_type": "code",
   "execution_count": 61,
   "metadata": {},
   "outputs": [],
   "source": [
    "#Call `cross_validate` to estimate the pipeline's performance.\n",
    "#Pass it the random forest pipe object, `X_train` and `y_train`,\n",
    "#and get it to use 5-fold cross-validation\n",
    "rf_default_cv_results = cross_validate(RF_pipe, X_train, y_train, cv=5)"
   ]
  },
  {
   "cell_type": "code",
   "execution_count": 62,
   "metadata": {},
   "outputs": [
    {
     "data": {
      "text/plain": [
       "array([0.995564  , 0.98805327, 0.99296071, 0.99906517, 0.99733686])"
      ]
     },
     "execution_count": 62,
     "metadata": {},
     "output_type": "execute_result"
    }
   ],
   "source": [
    "rf_cv_scores = rf_default_cv_results['test_score']\n",
    "rf_cv_scores"
   ]
  },
  {
   "cell_type": "code",
   "execution_count": 63,
   "metadata": {},
   "outputs": [
    {
     "data": {
      "text/plain": [
       "(0.9945960019552451, 0.003844589985696169)"
      ]
     },
     "execution_count": 63,
     "metadata": {},
     "output_type": "execute_result"
    }
   ],
   "source": [
    "np.mean(rf_cv_scores), np.std(rf_cv_scores)"
   ]
  },
  {
   "cell_type": "markdown",
   "metadata": {},
   "source": [
    "<b> Hyperparameter search using GridSearchCV </b>"
   ]
  },
  {
   "cell_type": "code",
   "execution_count": 64,
   "metadata": {},
   "outputs": [
    {
     "data": {
      "text/plain": [
       "{'randomforestregressor__n_estimators': [10,\n",
       "  12,\n",
       "  16,\n",
       "  20,\n",
       "  26,\n",
       "  33,\n",
       "  42,\n",
       "  54,\n",
       "  69,\n",
       "  88,\n",
       "  112,\n",
       "  143,\n",
       "  183,\n",
       "  233,\n",
       "  297,\n",
       "  379,\n",
       "  483,\n",
       "  615,\n",
       "  784,\n",
       "  1000],\n",
       " 'standardscaler': [StandardScaler(), None]}"
      ]
     },
     "execution_count": 64,
     "metadata": {},
     "output_type": "execute_result"
    }
   ],
   "source": [
    "n_est = [int(n) for n in np.logspace(start=1, stop=3, num=20)]\n",
    "grid_params = {\n",
    "        'randomforestregressor__n_estimators': n_est,\n",
    "        'standardscaler': [StandardScaler(), None]\n",
    "}\n",
    "grid_params"
   ]
  },
  {
   "cell_type": "code",
   "execution_count": 65,
   "metadata": {},
   "outputs": [],
   "source": [
    "#Call `GridSearchCV` with the random forest pipeline, passing in the above `grid_params`\n",
    "#dict for parameters to evaluate, 5-fold cross-validation, and all available CPU cores (if desired)\n",
    "rf_grid_cv = GridSearchCV(RF_pipe, param_grid=grid_params, cv=5, n_jobs=-1)"
   ]
  },
  {
   "cell_type": "code",
   "execution_count": 66,
   "metadata": {},
   "outputs": [
    {
     "data": {
      "text/plain": [
       "GridSearchCV(cv=5,\n",
       "             estimator=Pipeline(steps=[('standardscaler', StandardScaler()),\n",
       "                                       ('randomforestregressor',\n",
       "                                        RandomForestRegressor(random_state=47))]),\n",
       "             n_jobs=-1,\n",
       "             param_grid={'randomforestregressor__n_estimators': [10, 12, 16, 20,\n",
       "                                                                 26, 33, 42, 54,\n",
       "                                                                 69, 88, 112,\n",
       "                                                                 143, 183, 233,\n",
       "                                                                 297, 379, 483,\n",
       "                                                                 615, 784,\n",
       "                                                                 1000],\n",
       "                         'standardscaler': [StandardScaler(), None]})"
      ]
     },
     "execution_count": 66,
     "metadata": {},
     "output_type": "execute_result"
    }
   ],
   "source": [
    "#Now call the `GridSearchCV`'s `fit()` method with `X_train` and `y_train` as arguments\n",
    "#to actually start the grid search. This may take a minute or two.\n",
    "rf_grid_cv.fit(X_train, y_train)"
   ]
  },
  {
   "cell_type": "code",
   "execution_count": 67,
   "metadata": {},
   "outputs": [
    {
     "data": {
      "text/plain": [
       "{'randomforestregressor__n_estimators': 297, 'standardscaler': None}"
      ]
     },
     "execution_count": 67,
     "metadata": {},
     "output_type": "execute_result"
    }
   ],
   "source": [
    "#Print the best params (`best_params_` attribute) from the grid search\n",
    "rf_grid_cv.best_params_"
   ]
  },
  {
   "cell_type": "code",
   "execution_count": 68,
   "metadata": {},
   "outputs": [
    {
     "data": {
      "text/plain": [
       "array([0.99556476, 0.98951463, 0.9933116 , 0.9989156 , 0.99752784])"
      ]
     },
     "execution_count": 68,
     "metadata": {},
     "output_type": "execute_result"
    }
   ],
   "source": [
    "rf_best_cv_results = cross_validate(rf_grid_cv.best_estimator_, X_train, y_train, cv=5)\n",
    "rf_best_scores = rf_best_cv_results['test_score']\n",
    "rf_best_scores"
   ]
  },
  {
   "cell_type": "code",
   "execution_count": 69,
   "metadata": {},
   "outputs": [
    {
     "data": {
      "text/plain": [
       "(0.9949668865184854, 0.0033158820830107958)"
      ]
     },
     "execution_count": 69,
     "metadata": {},
     "output_type": "execute_result"
    }
   ],
   "source": [
    "np.mean(rf_best_scores), np.std(rf_best_scores)"
   ]
  },
  {
   "cell_type": "code",
   "execution_count": 70,
   "metadata": {},
   "outputs": [
    {
     "data": {
      "image/png": "[encoded data removed]",
      "text/plain": [
       "<Figure size 720x360 with 1 Axes>"
      ]
     },
     "metadata": {},
     "output_type": "display_data"
    }
   ],
   "source": [
    "#Plot a barplot of the random forest's feature importances,\n",
    "#assigning the `feature_importances_` attribute of \n",
    "#`rf_grid_cv.best_estimator_.named_steps.randomforestregressor` to the name `imps` to then\n",
    "#create a pandas Series object of the feature importances, with the index given by the\n",
    "#training data column names, sorting the values in descending order\n",
    "plt.subplots(figsize=(10, 5))\n",
    "imps = rf_grid_cv.best_estimator_.named_steps.randomforestregressor.feature_importances_\n",
    "rf_feat_imps = pd.Series(imps, index=X_train.columns).sort_values(ascending=False)\n",
    "rf_feat_imps.plot(kind='bar')\n",
    "plt.xlabel('features')\n",
    "plt.ylabel('importance')\n",
    "plt.title('Best random forest regressor feature importances');"
   ]
  },
  {
   "cell_type": "code",
   "execution_count": null,
   "metadata": {},
   "outputs": [],
   "source": []
  }
 ],
 "metadata": {
  "kernelspec": {
   "display_name": "Python 3",
   "language": "python",
   "name": "python3"
  },
  "language_info": {
   "codemirror_mode": {
    "name": "ipython",
    "version": 3
   },
   "file_extension": ".py",
   "mimetype": "text/x-python",
   "name": "python",
   "nbconvert_exporter": "python",
   "pygments_lexer": "ipython3",
   "version": "3.8.5"
  }
 },
 "nbformat": 4,
 "nbformat_minor": 4
}
