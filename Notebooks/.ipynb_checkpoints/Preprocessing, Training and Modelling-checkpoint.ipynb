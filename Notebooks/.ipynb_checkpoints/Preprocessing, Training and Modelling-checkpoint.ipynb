{
 "cells": [
  {
   "cell_type": "code",
   "execution_count": 1,
   "metadata": {},
   "outputs": [],
   "source": [
    "import pandas as pd\n",
    "import seaborn as sns\n",
    "import matplotlib.pyplot as plt\n",
    "import numpy as np\n",
    "import datetime as dt\n",
    "from sklearn.model_selection import train_test_split\n",
    "from sklearn.linear_model import LinearRegression\n",
    "from sklearn import metrics\n",
    "from sklearn.metrics import r2_score"
   ]
  },
  {
   "cell_type": "code",
   "execution_count": 2,
   "metadata": {},
   "outputs": [
    {
     "name": "stdout",
     "output_type": "stream",
     "text": [
      "state_name                   object\n",
      "county_name                  object\n",
      "Date                 datetime64[ns]\n",
      "Price                       float64\n",
      "mortgage_int_rate           float64\n",
      "dtype: object (13780, 5)\n"
     ]
    },
    {
     "data": {
      "text/html": [
       "<div>\n",
       "<style scoped>\n",
       "    .dataframe tbody tr th:only-of-type {\n",
       "        vertical-align: middle;\n",
       "    }\n",
       "\n",
       "    .dataframe tbody tr th {\n",
       "        vertical-align: top;\n",
       "    }\n",
       "\n",
       "    .dataframe thead th {\n",
       "        text-align: right;\n",
       "    }\n",
       "</style>\n",
       "<table border=\"1\" class=\"dataframe\">\n",
       "  <thead>\n",
       "    <tr style=\"text-align: right;\">\n",
       "      <th></th>\n",
       "      <th>state_name</th>\n",
       "      <th>county_name</th>\n",
       "      <th>Date</th>\n",
       "      <th>Price</th>\n",
       "      <th>mortgage_int_rate</th>\n",
       "    </tr>\n",
       "  </thead>\n",
       "  <tbody>\n",
       "    <tr>\n",
       "      <th>0</th>\n",
       "      <td>California</td>\n",
       "      <td>Fresno</td>\n",
       "      <td>2000-01-31</td>\n",
       "      <td>121248.0</td>\n",
       "      <td>8.21</td>\n",
       "    </tr>\n",
       "    <tr>\n",
       "      <th>1</th>\n",
       "      <td>California</td>\n",
       "      <td>Kern</td>\n",
       "      <td>2000-01-31</td>\n",
       "      <td>108969.0</td>\n",
       "      <td>8.21</td>\n",
       "    </tr>\n",
       "    <tr>\n",
       "      <th>2</th>\n",
       "      <td>California</td>\n",
       "      <td>Los Angeles</td>\n",
       "      <td>2000-01-31</td>\n",
       "      <td>231141.0</td>\n",
       "      <td>8.21</td>\n",
       "    </tr>\n",
       "  </tbody>\n",
       "</table>\n",
       "</div>"
      ],
      "text/plain": [
       "   state_name  county_name       Date     Price  mortgage_int_rate\n",
       "0  California       Fresno 2000-01-31  121248.0               8.21\n",
       "1  California         Kern 2000-01-31  108969.0               8.21\n",
       "2  California  Los Angeles 2000-01-31  231141.0               8.21"
      ]
     },
     "execution_count": 2,
     "metadata": {},
     "output_type": "execute_result"
    }
   ],
   "source": [
    "housing_int_df = pd.read_csv(\"../data/processed data/housing_mortgage_final.csv\")\n",
    "housing_int_df['Date'] = pd.to_datetime(housing_int_df['Date'])\n",
    "print(housing_int_df.dtypes, housing_int_df.shape)\n",
    "housing_int_df.head(3)"
   ]
  },
  {
   "cell_type": "code",
   "execution_count": 3,
   "metadata": {},
   "outputs": [
    {
     "data": {
      "text/html": [
       "<div>\n",
       "<style scoped>\n",
       "    .dataframe tbody tr th:only-of-type {\n",
       "        vertical-align: middle;\n",
       "    }\n",
       "\n",
       "    .dataframe tbody tr th {\n",
       "        vertical-align: top;\n",
       "    }\n",
       "\n",
       "    .dataframe thead th {\n",
       "        text-align: right;\n",
       "    }\n",
       "</style>\n",
       "<table border=\"1\" class=\"dataframe\">\n",
       "  <thead>\n",
       "    <tr style=\"text-align: right;\">\n",
       "      <th></th>\n",
       "      <th>state_name</th>\n",
       "      <th>county_name</th>\n",
       "      <th>Date</th>\n",
       "      <th>Price</th>\n",
       "      <th>mortgage_int_rate</th>\n",
       "    </tr>\n",
       "  </thead>\n",
       "  <tbody>\n",
       "    <tr>\n",
       "      <th>8112</th>\n",
       "      <td>California</td>\n",
       "      <td>Fresno</td>\n",
       "      <td>2013-01-31</td>\n",
       "      <td>165879.0</td>\n",
       "      <td>3.414</td>\n",
       "    </tr>\n",
       "    <tr>\n",
       "      <th>8113</th>\n",
       "      <td>California</td>\n",
       "      <td>Kern</td>\n",
       "      <td>2013-01-31</td>\n",
       "      <td>146547.0</td>\n",
       "      <td>3.414</td>\n",
       "    </tr>\n",
       "    <tr>\n",
       "      <th>8114</th>\n",
       "      <td>California</td>\n",
       "      <td>Los Angeles</td>\n",
       "      <td>2013-01-31</td>\n",
       "      <td>425542.0</td>\n",
       "      <td>3.414</td>\n",
       "    </tr>\n",
       "    <tr>\n",
       "      <th>8115</th>\n",
       "      <td>California</td>\n",
       "      <td>Monterey</td>\n",
       "      <td>2013-01-31</td>\n",
       "      <td>342353.0</td>\n",
       "      <td>3.414</td>\n",
       "    </tr>\n",
       "    <tr>\n",
       "      <th>8116</th>\n",
       "      <td>California</td>\n",
       "      <td>Napa</td>\n",
       "      <td>2013-01-31</td>\n",
       "      <td>419359.0</td>\n",
       "      <td>3.414</td>\n",
       "    </tr>\n",
       "  </tbody>\n",
       "</table>\n",
       "</div>"
      ],
      "text/plain": [
       "      state_name  county_name       Date     Price  mortgage_int_rate\n",
       "8112  California       Fresno 2013-01-31  165879.0              3.414\n",
       "8113  California         Kern 2013-01-31  146547.0              3.414\n",
       "8114  California  Los Angeles 2013-01-31  425542.0              3.414\n",
       "8115  California     Monterey 2013-01-31  342353.0              3.414\n",
       "8116  California         Napa 2013-01-31  419359.0              3.414"
      ]
     },
     "execution_count": 3,
     "metadata": {},
     "output_type": "execute_result"
    }
   ],
   "source": [
    "# Removing data uptil 2012, to eliminate the non linear post recession dip\n",
    "date = pd.to_datetime('2012-12-31')\n",
    "mask = housing_int_df['Date'] > date\n",
    "housing_int_2012 = housing_int_df.loc[mask]\n",
    "housing_int_2012.head()"
   ]
  },
  {
   "cell_type": "code",
   "execution_count": 4,
   "metadata": {},
   "outputs": [
    {
     "data": {
      "text/html": [
       "<div>\n",
       "<style scoped>\n",
       "    .dataframe tbody tr th:only-of-type {\n",
       "        vertical-align: middle;\n",
       "    }\n",
       "\n",
       "    .dataframe tbody tr th {\n",
       "        vertical-align: top;\n",
       "    }\n",
       "\n",
       "    .dataframe thead th {\n",
       "        text-align: right;\n",
       "    }\n",
       "</style>\n",
       "<table border=\"1\" class=\"dataframe\">\n",
       "  <thead>\n",
       "    <tr style=\"text-align: right;\">\n",
       "      <th></th>\n",
       "      <th>state_name</th>\n",
       "      <th>county_name</th>\n",
       "      <th>Date</th>\n",
       "      <th>Price</th>\n",
       "      <th>mortgage_int_rate</th>\n",
       "    </tr>\n",
       "  </thead>\n",
       "  <tbody>\n",
       "    <tr>\n",
       "      <th>5663</th>\n",
       "      <td>Washington</td>\n",
       "      <td>Kitsap</td>\n",
       "      <td>2022-01-31</td>\n",
       "      <td>552864.0</td>\n",
       "      <td>3.445</td>\n",
       "    </tr>\n",
       "    <tr>\n",
       "      <th>5664</th>\n",
       "      <td>Washington</td>\n",
       "      <td>Skagit</td>\n",
       "      <td>2022-01-31</td>\n",
       "      <td>562064.0</td>\n",
       "      <td>3.445</td>\n",
       "    </tr>\n",
       "    <tr>\n",
       "      <th>5665</th>\n",
       "      <td>Washington</td>\n",
       "      <td>Spokane</td>\n",
       "      <td>2022-01-31</td>\n",
       "      <td>411352.0</td>\n",
       "      <td>3.445</td>\n",
       "    </tr>\n",
       "    <tr>\n",
       "      <th>5666</th>\n",
       "      <td>Washington</td>\n",
       "      <td>Thurston</td>\n",
       "      <td>2022-01-31</td>\n",
       "      <td>502325.0</td>\n",
       "      <td>3.445</td>\n",
       "    </tr>\n",
       "    <tr>\n",
       "      <th>5667</th>\n",
       "      <td>Washington</td>\n",
       "      <td>Walla Walla</td>\n",
       "      <td>2022-01-31</td>\n",
       "      <td>381225.0</td>\n",
       "      <td>3.445</td>\n",
       "    </tr>\n",
       "  </tbody>\n",
       "</table>\n",
       "</div>"
      ],
      "text/plain": [
       "      state_name  county_name       Date     Price  mortgage_int_rate\n",
       "5663  Washington       Kitsap 2022-01-31  552864.0              3.445\n",
       "5664  Washington       Skagit 2022-01-31  562064.0              3.445\n",
       "5665  Washington      Spokane 2022-01-31  411352.0              3.445\n",
       "5666  Washington     Thurston 2022-01-31  502325.0              3.445\n",
       "5667  Washington  Walla Walla 2022-01-31  381225.0              3.445"
      ]
     },
     "execution_count": 4,
     "metadata": {},
     "output_type": "execute_result"
    }
   ],
   "source": [
    "housing_int_2012.reset_index(drop=True, inplace=True)\n",
    "housing_int_2012.tail()"
   ]
  },
  {
   "cell_type": "markdown",
   "metadata": {},
   "source": [
    "<b>Separating values from \"2021-07-31\" to \"2022-01-31\", to save it latter for model prediction. Saving data prior to \"2021-07-31\" into training dataframe</b>"
   ]
  },
  {
   "cell_type": "code",
   "execution_count": 5,
   "metadata": {},
   "outputs": [],
   "source": [
    "dt_separate = pd.to_datetime('2021-06-30')\n",
    "LA_hou_mor_train = housing_int_df[(housing_int_df[\"state_name\"]==\"California\") & (housing_int_df[\"county_name\"]==\"Los Angeles\") & (housing_int_df['Date'] <= dt_separate)]\n",
    "LA_hou_mor_topred = housing_int_df[(housing_int_df[\"state_name\"]==\"California\") & (housing_int_df[\"county_name\"]==\"Los Angeles\") & (housing_int_df['Date'] > dt_separate)]"
   ]
  },
  {
   "cell_type": "code",
   "execution_count": 6,
   "metadata": {},
   "outputs": [],
   "source": [
    "De_hou_mor_train = housing_int_df[(housing_int_df[\"state_name\"]==\"Colorado\") & (housing_int_df[\"county_name\"]==\"Denver\")& (housing_int_df['Date'] <= dt_separate)]\n",
    "De_hou_mor_topred =housing_int_df[(housing_int_df[\"state_name\"]==\"Colorado\") & (housing_int_df[\"county_name\"]==\"Denver\")& (housing_int_df['Date'] > dt_separate)]"
   ]
  },
  {
   "cell_type": "code",
   "execution_count": 7,
   "metadata": {},
   "outputs": [],
   "source": [
    "Da_hou_mor_train = housing_int_df[(housing_int_df[\"state_name\"]==\"Texas\") & (housing_int_df[\"county_name\"]==\"Dallas\") & (housing_int_df['Date'] <= dt_separate)]\n",
    "Da_hou_mor_topred = housing_int_df[(housing_int_df[\"state_name\"]==\"Texas\") & (housing_int_df[\"county_name\"]==\"Dallas\") & (housing_int_df['Date'] > dt_separate)]"
   ]
  },
  {
   "cell_type": "code",
   "execution_count": 8,
   "metadata": {},
   "outputs": [],
   "source": [
    "VB_hou_mor_train = housing_int_df[(housing_int_df[\"state_name\"]==\"Virginia\") & (housing_int_df[\"county_name\"]==\"Virginia Beach\") & (housing_int_df['Date'] <= dt_separate)]\n",
    "VB_hou_mor_topred = housing_int_df[(housing_int_df[\"state_name\"]==\"Virginia\") & (housing_int_df[\"county_name\"]==\"Virginia Beach\") & (housing_int_df['Date'] > dt_separate)]"
   ]
  },
  {
   "cell_type": "code",
   "execution_count": 9,
   "metadata": {},
   "outputs": [],
   "source": [
    "Ki_hou_mor_train = housing_int_df[(housing_int_df[\"state_name\"]==\"Washington\") & (housing_int_df[\"county_name\"]==\"King\") & (housing_int_df['Date'] <= dt_separate)]\n",
    "Ki_hou_mor_topred = housing_int_df[(housing_int_df[\"state_name\"]==\"Washington\") & (housing_int_df[\"county_name\"]==\"King\") & (housing_int_df['Date'] > dt_separate)]"
   ]
  },
  {
   "cell_type": "markdown",
   "metadata": {},
   "source": [
    "# Multiple linear regression model: with date and mortgage interest rate as features"
   ]
  },
  {
   "cell_type": "code",
   "execution_count": 10,
   "metadata": {},
   "outputs": [
    {
     "name": "stderr",
     "output_type": "stream",
     "text": [
      "<ipython-input-10-cd9ad87f5c96>:2: SettingWithCopyWarning: \n",
      "A value is trying to be set on a copy of a slice from a DataFrame.\n",
      "Try using .loc[row_indexer,col_indexer] = value instead\n",
      "\n",
      "See the caveats in the documentation: https://pandas.pydata.org/pandas-docs/stable/user_guide/indexing.html#returning-a-view-versus-a-copy\n",
      "  LA_hou_mor_train['Date_ord']= LA_hou_mor_train['Date'].map(dt.datetime.toordinal)\n"
     ]
    }
   ],
   "source": [
    "# Using Los Angeles, California data to train multiple linear regression model\n",
    "LA_hou_mor_train['Date_ord']= LA_hou_mor_train['Date'].map(dt.datetime.toordinal)\n",
    "X = LA_hou_mor_train[[\"Date_ord\",\"mortgage_int_rate\"]]\n",
    "y= LA_hou_mor_train.Price\n",
    "X_train, X_test, y_train, y_test = train_test_split(X, y, test_size=0.25, random_state=42)"
   ]
  },
  {
   "cell_type": "code",
   "execution_count": 11,
   "metadata": {},
   "outputs": [
    {
     "data": {
      "text/html": [
       "<div>\n",
       "<style scoped>\n",
       "    .dataframe tbody tr th:only-of-type {\n",
       "        vertical-align: middle;\n",
       "    }\n",
       "\n",
       "    .dataframe tbody tr th {\n",
       "        vertical-align: top;\n",
       "    }\n",
       "\n",
       "    .dataframe thead th {\n",
       "        text-align: right;\n",
       "    }\n",
       "</style>\n",
       "<table border=\"1\" class=\"dataframe\">\n",
       "  <thead>\n",
       "    <tr style=\"text-align: right;\">\n",
       "      <th></th>\n",
       "      <th>Actual</th>\n",
       "      <th>Predicted</th>\n",
       "    </tr>\n",
       "  </thead>\n",
       "  <tbody>\n",
       "    <tr>\n",
       "      <th>3434</th>\n",
       "      <td>556406.0</td>\n",
       "      <td>392531.182158</td>\n",
       "    </tr>\n",
       "    <tr>\n",
       "      <th>2342</th>\n",
       "      <td>385571.0</td>\n",
       "      <td>358798.872975</td>\n",
       "    </tr>\n",
       "    <tr>\n",
       "      <th>470</th>\n",
       "      <td>250040.0</td>\n",
       "      <td>380366.049161</td>\n",
       "    </tr>\n",
       "    <tr>\n",
       "      <th>3798</th>\n",
       "      <td>608196.0</td>\n",
       "      <td>440095.704027</td>\n",
       "    </tr>\n",
       "    <tr>\n",
       "      <th>7074</th>\n",
       "      <td>409578.0</td>\n",
       "      <td>493607.314914</td>\n",
       "    </tr>\n",
       "    <tr>\n",
       "      <th>...</th>\n",
       "      <td>...</td>\n",
       "      <td>...</td>\n",
       "    </tr>\n",
       "    <tr>\n",
       "      <th>11806</th>\n",
       "      <td>666729.0</td>\n",
       "      <td>702952.704319</td>\n",
       "    </tr>\n",
       "    <tr>\n",
       "      <th>10870</th>\n",
       "      <td>613964.0</td>\n",
       "      <td>619968.665910</td>\n",
       "    </tr>\n",
       "    <tr>\n",
       "      <th>4266</th>\n",
       "      <td>626308.0</td>\n",
       "      <td>460164.231954</td>\n",
       "    </tr>\n",
       "    <tr>\n",
       "      <th>11650</th>\n",
       "      <td>662130.0</td>\n",
       "      <td>695436.338825</td>\n",
       "    </tr>\n",
       "    <tr>\n",
       "      <th>5774</th>\n",
       "      <td>433697.0</td>\n",
       "      <td>445876.321493</td>\n",
       "    </tr>\n",
       "  </tbody>\n",
       "</table>\n",
       "<p>65 rows × 2 columns</p>\n",
       "</div>"
      ],
      "text/plain": [
       "         Actual      Predicted\n",
       "3434   556406.0  392531.182158\n",
       "2342   385571.0  358798.872975\n",
       "470    250040.0  380366.049161\n",
       "3798   608196.0  440095.704027\n",
       "7074   409578.0  493607.314914\n",
       "...         ...            ...\n",
       "11806  666729.0  702952.704319\n",
       "10870  613964.0  619968.665910\n",
       "4266   626308.0  460164.231954\n",
       "11650  662130.0  695436.338825\n",
       "5774   433697.0  445876.321493\n",
       "\n",
       "[65 rows x 2 columns]"
      ]
     },
     "execution_count": 11,
     "metadata": {},
     "output_type": "execute_result"
    }
   ],
   "source": [
    "# Fitting data to model and predicting on test data\n",
    "MLR_model = LinearRegression()\n",
    "MLR_model.fit(X_train, y_train)\n",
    "y_pred_test = MLR_model.predict(X_test)\n",
    "LA_test_pred = pd.DataFrame({'Actual': y_test, 'Predicted':  y_pred_test})\n",
    "\n",
    "LA_test_pred"
   ]
  },
  {
   "cell_type": "code",
   "execution_count": 12,
   "metadata": {},
   "outputs": [
    {
     "name": "stdout",
     "output_type": "stream",
     "text": [
      "Mean Absolute Error: 67382.65716010125\n",
      "Mean Squared Error: 7118698383.233811\n",
      "Root Mean Squared Error: 84372.37926735154\n",
      "R2 Score: 0.6317816664766178\n"
     ]
    }
   ],
   "source": [
    "print('Mean Absolute Error:', metrics.mean_absolute_error(y_test, y_pred_test))\n",
    "print('Mean Squared Error:', metrics.mean_squared_error(y_test, y_pred_test))\n",
    "print('Root Mean Squared Error:', np.sqrt(metrics.mean_squared_error(y_test, y_pred_test)))\n",
    "print('R2 Score:', r2_score(y_test,y_pred_test))"
   ]
  },
  {
   "cell_type": "markdown",
   "metadata": {},
   "source": [
    "There is a -0.23 negative correlation between Housing prices and mortgage interest rates. Maybe the low R2 score implies the same. Trying Linear regression model without mortgage interest rate below, to predict housing price."
   ]
  },
  {
   "cell_type": "markdown",
   "metadata": {},
   "source": [
    "# Linear Regression model: only considering date"
   ]
  },
  {
   "cell_type": "code",
   "execution_count": null,
   "metadata": {},
   "outputs": [],
   "source": []
  }
 ],
 "metadata": {
  "kernelspec": {
   "display_name": "Python 3",
   "language": "python",
   "name": "python3"
  },
  "language_info": {
   "codemirror_mode": {
    "name": "ipython",
    "version": 3
   },
   "file_extension": ".py",
   "mimetype": "text/x-python",
   "name": "python",
   "nbconvert_exporter": "python",
   "pygments_lexer": "ipython3",
   "version": "3.8.5"
  }
 },
 "nbformat": 4,
 "nbformat_minor": 4
}
