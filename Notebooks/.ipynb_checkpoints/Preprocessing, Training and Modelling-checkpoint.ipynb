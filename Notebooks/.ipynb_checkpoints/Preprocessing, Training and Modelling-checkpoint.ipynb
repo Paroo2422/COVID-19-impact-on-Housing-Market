{
 "cells": [
  {
   "cell_type": "code",
   "execution_count": 1,
   "metadata": {},
   "outputs": [],
   "source": [
    "import pandas as pd\n",
    "import seaborn as sns\n",
    "import matplotlib.pyplot as plt\n",
    "import numpy as np\n",
    "import datetime as dt\n",
    "from sklearn.model_selection import train_test_split\n",
    "from sklearn.preprocessing import StandardScaler\n",
    "from sklearn.linear_model import LinearRegression\n",
    "from sklearn import metrics\n",
    "from sklearn.metrics import r2_score\n",
    "import statsmodels.api as sm \n",
    "import warnings\n",
    "warnings.filterwarnings(\"ignore\")"
   ]
  },
  {
   "cell_type": "code",
   "execution_count": 2,
   "metadata": {},
   "outputs": [
    {
     "name": "stdout",
     "output_type": "stream",
     "text": [
      "state_name                   object\n",
      "county_name                  object\n",
      "Date                 datetime64[ns]\n",
      "Price                       float64\n",
      "mortgage_int_rate           float64\n",
      "dtype: object (13780, 5)\n"
     ]
    },
    {
     "data": {
      "text/html": [
       "<div>\n",
       "<style scoped>\n",
       "    .dataframe tbody tr th:only-of-type {\n",
       "        vertical-align: middle;\n",
       "    }\n",
       "\n",
       "    .dataframe tbody tr th {\n",
       "        vertical-align: top;\n",
       "    }\n",
       "\n",
       "    .dataframe thead th {\n",
       "        text-align: right;\n",
       "    }\n",
       "</style>\n",
       "<table border=\"1\" class=\"dataframe\">\n",
       "  <thead>\n",
       "    <tr style=\"text-align: right;\">\n",
       "      <th></th>\n",
       "      <th>state_name</th>\n",
       "      <th>county_name</th>\n",
       "      <th>Date</th>\n",
       "      <th>Price</th>\n",
       "      <th>mortgage_int_rate</th>\n",
       "    </tr>\n",
       "  </thead>\n",
       "  <tbody>\n",
       "    <tr>\n",
       "      <th>0</th>\n",
       "      <td>California</td>\n",
       "      <td>Fresno</td>\n",
       "      <td>2000-01-31</td>\n",
       "      <td>121248.0</td>\n",
       "      <td>8.21</td>\n",
       "    </tr>\n",
       "    <tr>\n",
       "      <th>1</th>\n",
       "      <td>California</td>\n",
       "      <td>Kern</td>\n",
       "      <td>2000-01-31</td>\n",
       "      <td>108969.0</td>\n",
       "      <td>8.21</td>\n",
       "    </tr>\n",
       "    <tr>\n",
       "      <th>2</th>\n",
       "      <td>California</td>\n",
       "      <td>Los Angeles</td>\n",
       "      <td>2000-01-31</td>\n",
       "      <td>231141.0</td>\n",
       "      <td>8.21</td>\n",
       "    </tr>\n",
       "    <tr>\n",
       "      <th>3</th>\n",
       "      <td>California</td>\n",
       "      <td>Monterey</td>\n",
       "      <td>2000-01-31</td>\n",
       "      <td>268911.0</td>\n",
       "      <td>8.21</td>\n",
       "    </tr>\n",
       "    <tr>\n",
       "      <th>4</th>\n",
       "      <td>California</td>\n",
       "      <td>Napa</td>\n",
       "      <td>2000-01-31</td>\n",
       "      <td>247799.0</td>\n",
       "      <td>8.21</td>\n",
       "    </tr>\n",
       "  </tbody>\n",
       "</table>\n",
       "</div>"
      ],
      "text/plain": [
       "   state_name  county_name       Date     Price  mortgage_int_rate\n",
       "0  California       Fresno 2000-01-31  121248.0               8.21\n",
       "1  California         Kern 2000-01-31  108969.0               8.21\n",
       "2  California  Los Angeles 2000-01-31  231141.0               8.21\n",
       "3  California     Monterey 2000-01-31  268911.0               8.21\n",
       "4  California         Napa 2000-01-31  247799.0               8.21"
      ]
     },
     "execution_count": 2,
     "metadata": {},
     "output_type": "execute_result"
    }
   ],
   "source": [
    "housing_int_df = pd.read_csv(\"../data/processed data/housing_mortgage_final.csv\")\n",
    "housing_int_df['Date'] = pd.to_datetime(housing_int_df['Date'])\n",
    "print(housing_int_df.dtypes, housing_int_df.shape)\n",
    "housing_int_df.head()"
   ]
  },
  {
   "cell_type": "code",
   "execution_count": 3,
   "metadata": {},
   "outputs": [
    {
     "data": {
      "text/html": [
       "<div>\n",
       "<style scoped>\n",
       "    .dataframe tbody tr th:only-of-type {\n",
       "        vertical-align: middle;\n",
       "    }\n",
       "\n",
       "    .dataframe tbody tr th {\n",
       "        vertical-align: top;\n",
       "    }\n",
       "\n",
       "    .dataframe thead th {\n",
       "        text-align: right;\n",
       "    }\n",
       "</style>\n",
       "<table border=\"1\" class=\"dataframe\">\n",
       "  <thead>\n",
       "    <tr style=\"text-align: right;\">\n",
       "      <th></th>\n",
       "      <th>state_name</th>\n",
       "      <th>county_name</th>\n",
       "      <th>Date</th>\n",
       "      <th>Price</th>\n",
       "      <th>mortgage_int_rate</th>\n",
       "    </tr>\n",
       "  </thead>\n",
       "  <tbody>\n",
       "    <tr>\n",
       "      <th>8112</th>\n",
       "      <td>California</td>\n",
       "      <td>Fresno</td>\n",
       "      <td>2013-01-31</td>\n",
       "      <td>165879.0</td>\n",
       "      <td>3.414</td>\n",
       "    </tr>\n",
       "    <tr>\n",
       "      <th>8113</th>\n",
       "      <td>California</td>\n",
       "      <td>Kern</td>\n",
       "      <td>2013-01-31</td>\n",
       "      <td>146547.0</td>\n",
       "      <td>3.414</td>\n",
       "    </tr>\n",
       "    <tr>\n",
       "      <th>8114</th>\n",
       "      <td>California</td>\n",
       "      <td>Los Angeles</td>\n",
       "      <td>2013-01-31</td>\n",
       "      <td>425542.0</td>\n",
       "      <td>3.414</td>\n",
       "    </tr>\n",
       "    <tr>\n",
       "      <th>8115</th>\n",
       "      <td>California</td>\n",
       "      <td>Monterey</td>\n",
       "      <td>2013-01-31</td>\n",
       "      <td>342353.0</td>\n",
       "      <td>3.414</td>\n",
       "    </tr>\n",
       "    <tr>\n",
       "      <th>8116</th>\n",
       "      <td>California</td>\n",
       "      <td>Napa</td>\n",
       "      <td>2013-01-31</td>\n",
       "      <td>419359.0</td>\n",
       "      <td>3.414</td>\n",
       "    </tr>\n",
       "  </tbody>\n",
       "</table>\n",
       "</div>"
      ],
      "text/plain": [
       "      state_name  county_name       Date     Price  mortgage_int_rate\n",
       "8112  California       Fresno 2013-01-31  165879.0              3.414\n",
       "8113  California         Kern 2013-01-31  146547.0              3.414\n",
       "8114  California  Los Angeles 2013-01-31  425542.0              3.414\n",
       "8115  California     Monterey 2013-01-31  342353.0              3.414\n",
       "8116  California         Napa 2013-01-31  419359.0              3.414"
      ]
     },
     "execution_count": 3,
     "metadata": {},
     "output_type": "execute_result"
    }
   ],
   "source": [
    "# Removing data uptil 2012, to eliminate the non linear post recession dip\n",
    "date = pd.to_datetime('2012-12-31')\n",
    "mask = housing_int_df['Date'] > date\n",
    "housing_int_2012 = housing_int_df.loc[mask]\n",
    "housing_int_2012.head()"
   ]
  },
  {
   "cell_type": "code",
   "execution_count": 4,
   "metadata": {},
   "outputs": [
    {
     "data": {
      "text/html": [
       "<div>\n",
       "<style scoped>\n",
       "    .dataframe tbody tr th:only-of-type {\n",
       "        vertical-align: middle;\n",
       "    }\n",
       "\n",
       "    .dataframe tbody tr th {\n",
       "        vertical-align: top;\n",
       "    }\n",
       "\n",
       "    .dataframe thead th {\n",
       "        text-align: right;\n",
       "    }\n",
       "</style>\n",
       "<table border=\"1\" class=\"dataframe\">\n",
       "  <thead>\n",
       "    <tr style=\"text-align: right;\">\n",
       "      <th></th>\n",
       "      <th>state_name</th>\n",
       "      <th>county_name</th>\n",
       "      <th>Date</th>\n",
       "      <th>Price</th>\n",
       "      <th>mortgage_int_rate</th>\n",
       "    </tr>\n",
       "  </thead>\n",
       "  <tbody>\n",
       "    <tr>\n",
       "      <th>5663</th>\n",
       "      <td>Washington</td>\n",
       "      <td>Kitsap</td>\n",
       "      <td>2022-01-31</td>\n",
       "      <td>552864.0</td>\n",
       "      <td>3.445</td>\n",
       "    </tr>\n",
       "    <tr>\n",
       "      <th>5664</th>\n",
       "      <td>Washington</td>\n",
       "      <td>Skagit</td>\n",
       "      <td>2022-01-31</td>\n",
       "      <td>562064.0</td>\n",
       "      <td>3.445</td>\n",
       "    </tr>\n",
       "    <tr>\n",
       "      <th>5665</th>\n",
       "      <td>Washington</td>\n",
       "      <td>Spokane</td>\n",
       "      <td>2022-01-31</td>\n",
       "      <td>411352.0</td>\n",
       "      <td>3.445</td>\n",
       "    </tr>\n",
       "    <tr>\n",
       "      <th>5666</th>\n",
       "      <td>Washington</td>\n",
       "      <td>Thurston</td>\n",
       "      <td>2022-01-31</td>\n",
       "      <td>502325.0</td>\n",
       "      <td>3.445</td>\n",
       "    </tr>\n",
       "    <tr>\n",
       "      <th>5667</th>\n",
       "      <td>Washington</td>\n",
       "      <td>Walla Walla</td>\n",
       "      <td>2022-01-31</td>\n",
       "      <td>381225.0</td>\n",
       "      <td>3.445</td>\n",
       "    </tr>\n",
       "  </tbody>\n",
       "</table>\n",
       "</div>"
      ],
      "text/plain": [
       "      state_name  county_name       Date     Price  mortgage_int_rate\n",
       "5663  Washington       Kitsap 2022-01-31  552864.0              3.445\n",
       "5664  Washington       Skagit 2022-01-31  562064.0              3.445\n",
       "5665  Washington      Spokane 2022-01-31  411352.0              3.445\n",
       "5666  Washington     Thurston 2022-01-31  502325.0              3.445\n",
       "5667  Washington  Walla Walla 2022-01-31  381225.0              3.445"
      ]
     },
     "execution_count": 4,
     "metadata": {},
     "output_type": "execute_result"
    }
   ],
   "source": [
    "housing_int_2012.reset_index(drop=True, inplace=True)\n",
    "housing_int_2012.tail()"
   ]
  },
  {
   "cell_type": "markdown",
   "metadata": {},
   "source": [
    "<b>Separating values from \"2021-07-31\" to \"2022-01-31\", to save it latter for model prediction. Saving data prior to \"2021-07-31\" into training dataframe</b>"
   ]
  },
  {
   "cell_type": "code",
   "execution_count": 5,
   "metadata": {},
   "outputs": [],
   "source": [
    "dt_separate = pd.to_datetime('2021-06-30')\n",
    "LA_hou_mor_train = housing_int_2012[(housing_int_2012[\"state_name\"]==\"California\") & (housing_int_2012[\"county_name\"]==\"Los Angeles\") & (housing_int_2012['Date'] <= dt_separate)]\n",
    "LA_hou_mor_topred = housing_int_2012[(housing_int_2012[\"state_name\"]==\"California\") & (housing_int_2012[\"county_name\"]==\"Los Angeles\") & (housing_int_2012['Date'] > dt_separate)]"
   ]
  },
  {
   "cell_type": "code",
   "execution_count": 6,
   "metadata": {},
   "outputs": [],
   "source": [
    "De_hou_mor_train = housing_int_2012[(housing_int_2012[\"state_name\"]==\"Colorado\") & (housing_int_2012[\"county_name\"]==\"Denver\")& (housing_int_2012['Date'] <= dt_separate)]\n",
    "De_hou_mor_topred =housing_int_2012[(housing_int_2012[\"state_name\"]==\"Colorado\") & (housing_int_2012[\"county_name\"]==\"Denver\")& (housing_int_2012['Date'] > dt_separate)]"
   ]
  },
  {
   "cell_type": "code",
   "execution_count": 7,
   "metadata": {},
   "outputs": [],
   "source": [
    "Da_hou_mor_train = housing_int_2012[(housing_int_2012[\"state_name\"]==\"Texas\") & (housing_int_2012[\"county_name\"]==\"Dallas\") & (housing_int_2012['Date'] <= dt_separate)]\n",
    "Da_hou_mor_topred = housing_int_2012[(housing_int_2012[\"state_name\"]==\"Texas\") & (housing_int_2012[\"county_name\"]==\"Dallas\") & (housing_int_2012['Date'] > dt_separate)]"
   ]
  },
  {
   "cell_type": "code",
   "execution_count": 8,
   "metadata": {},
   "outputs": [],
   "source": [
    "VB_hou_mor_train = housing_int_2012[(housing_int_2012[\"state_name\"]==\"Virginia\") & (housing_int_2012[\"county_name\"]==\"Virginia Beach\") & (housing_int_2012['Date'] <= dt_separate)]\n",
    "VB_hou_mor_topred = housing_int_2012[(housing_int_2012[\"state_name\"]==\"Virginia\") & (housing_int_2012[\"county_name\"]==\"Virginia Beach\") & (housing_int_2012['Date'] > dt_separate)]"
   ]
  },
  {
   "cell_type": "code",
   "execution_count": 9,
   "metadata": {},
   "outputs": [],
   "source": [
    "Ki_hou_mor_train = housing_int_2012[(housing_int_2012[\"state_name\"]==\"Washington\") & (housing_int_2012[\"county_name\"]==\"King\") & (housing_int_2012['Date'] <= dt_separate)]\n",
    "Ki_hou_mor_topred = housing_int_2012[(housing_int_2012[\"state_name\"]==\"Washington\") & (housing_int_2012[\"county_name\"]==\"King\") & (housing_int_2012['Date'] > dt_separate)]"
   ]
  },
  {
   "cell_type": "markdown",
   "metadata": {},
   "source": [
    "# Multiple linear regression model: with date and mortgage interest rate as features"
   ]
  },
  {
   "cell_type": "code",
   "execution_count": 10,
   "metadata": {},
   "outputs": [],
   "source": [
    "#sklearn and statsmodels Linear Regression modelling function\n",
    "\n",
    "def Linear_Regression(df, multipleLR, scale):\n",
    "    df[\"Date_ord\"] = df[\"Date\"].map(dt.datetime.toordinal)\n",
    "    county_state = str(df[\"county_name\"].iloc[0]) + \", \" + str(df[\"state_name\"].iloc[0])\n",
    "    if multipleLR:\n",
    "        X = df[[\"Date_ord\",\"mortgage_int_rate\"]]\n",
    "        mul_linear_reg = 1 \n",
    "    else:\n",
    "        X = df.Date_ord.values.reshape(-1,1)\n",
    "        mul_linear_reg = 0\n",
    "    y= df.Price\n",
    "    X_train, X_test, y_train, y_test = train_test_split(X, y, test_size=0.25, random_state=42)\n",
    "    if scale:\n",
    "        scaler = StandardScaler()\n",
    "        scaler.fit(X_train)\n",
    "        X_train = scaler.transform(X_train)\n",
    "        X_test = scaler.transform(X_test)\n",
    "        scale = 1\n",
    "    else:\n",
    "        scale = 0\n",
    "        \n",
    "    # Fitting data to model and predicting on test data\n",
    "    MLR_model = LinearRegression()\n",
    "    MLR_model.fit(X_train, y_train)\n",
    "    y_pred_test = MLR_model.predict(X_test)\n",
    "    test_pred = pd.DataFrame({'Actual': y_test, 'Predicted':  y_pred_test})\n",
    "    R2 = round(r2_score(y_test,y_pred_test),2)\n",
    "    MAE = round(metrics.mean_absolute_error(y_test, y_pred_test),2)\n",
    "    MSE = round(metrics.mean_squared_error(y_test, y_pred_test),2)\n",
    "    RMSE = round(np.sqrt(metrics.mean_squared_error(y_test, y_pred_test)),2)\n",
    "    \n",
    "    metrics_dict = {\"county_state\": county_state,\"mul_linear_reg\": mul_linear_reg,\"scale\": scale,\"R2\": R2,\"MAE\": MAE,\"MSE\": MSE,\"RMSE\": RMSE}\n",
    "    return metrics_dict"
   ]
  },
  {
   "cell_type": "markdown",
   "metadata": {},
   "source": [
    "<b>Multiple Linear Regression model: </b>"
   ]
  },
  {
   "cell_type": "code",
   "execution_count": 11,
   "metadata": {},
   "outputs": [],
   "source": [
    "metrics_df = pd.DataFrame(columns = [\"county_state\",\"mul_linear_reg\",\"scale\",\"R2\",\"MAE\",\"MSE\",\"RMSE\"])"
   ]
  },
  {
   "cell_type": "markdown",
   "metadata": {},
   "source": [
    "<b>Training data not scaled</b>"
   ]
  },
  {
   "cell_type": "code",
   "execution_count": 12,
   "metadata": {
    "scrolled": true
   },
   "outputs": [],
   "source": [
    "# Using Los Angeles, California data to train multiple linear regression model\n",
    "metrics_dict = Linear_Regression(LA_hou_mor_train, True, False)\n",
    "metrics_df = metrics_df.append(metrics_dict, ignore_index =True)"
   ]
  },
  {
   "cell_type": "code",
   "execution_count": 13,
   "metadata": {},
   "outputs": [],
   "source": [
    "# Using Denver, Colorado data to train multiple linear regression model\n",
    "metrics_dict = Linear_Regression(De_hou_mor_train, True, False)\n",
    "metrics_df = metrics_df.append(metrics_dict, ignore_index =True)"
   ]
  },
  {
   "cell_type": "code",
   "execution_count": 14,
   "metadata": {},
   "outputs": [],
   "source": [
    "# Using Dallas, Texas data to train multiple linear regression model\n",
    "metrics_dict = Linear_Regression(Da_hou_mor_train, True, False)\n",
    "metrics_df = metrics_df.append(metrics_dict, ignore_index =True)"
   ]
  },
  {
   "cell_type": "code",
   "execution_count": 15,
   "metadata": {},
   "outputs": [],
   "source": [
    "# Using Virginia Beach, Virginia data to train multiple linear regression model\n",
    "metrics_dict = Linear_Regression(VB_hou_mor_train, True, False)\n",
    "metrics_df = metrics_df.append(metrics_dict, ignore_index =True)"
   ]
  },
  {
   "cell_type": "code",
   "execution_count": 16,
   "metadata": {},
   "outputs": [],
   "source": [
    "# Using King, Washington data to train multiple linear regression model\n",
    "metrics_dict = Linear_Regression(Ki_hou_mor_train, True, False)\n",
    "metrics_df = metrics_df.append(metrics_dict, ignore_index =True)"
   ]
  },
  {
   "cell_type": "markdown",
   "metadata": {},
   "source": [
    "<b>Scaled train data</b>"
   ]
  },
  {
   "cell_type": "code",
   "execution_count": 17,
   "metadata": {},
   "outputs": [],
   "source": [
    "# Using Los Angeles, California data to train multiple linear regression model\n",
    "metrics_dict = Linear_Regression(LA_hou_mor_train, True, True)\n",
    "metrics_df = metrics_df.append(metrics_dict, ignore_index =True)"
   ]
  },
  {
   "cell_type": "code",
   "execution_count": 18,
   "metadata": {},
   "outputs": [],
   "source": [
    "# Using Denver, Colorado data to train multiple linear regression model\n",
    "metrics_dict = Linear_Regression(De_hou_mor_train, True, True)\n",
    "metrics_df = metrics_df.append(metrics_dict, ignore_index =True)"
   ]
  },
  {
   "cell_type": "code",
   "execution_count": 19,
   "metadata": {},
   "outputs": [],
   "source": [
    "# Using Dallas, Texas data to train multiple linear regression model\n",
    "metrics_dict = Linear_Regression(Da_hou_mor_train, True, True)\n",
    "metrics_df = metrics_df.append(metrics_dict, ignore_index =True)"
   ]
  },
  {
   "cell_type": "code",
   "execution_count": 20,
   "metadata": {},
   "outputs": [],
   "source": [
    "# Using Virginia Beach, Virginia data to train multiple linear regression model\n",
    "metrics_dict = Linear_Regression(VB_hou_mor_train, True, True)\n",
    "metrics_df = metrics_df.append(metrics_dict, ignore_index =True)"
   ]
  },
  {
   "cell_type": "code",
   "execution_count": 21,
   "metadata": {},
   "outputs": [],
   "source": [
    "# Using King, Washington data to train multiple linear regression model\n",
    "metrics_dict = Linear_Regression(Ki_hou_mor_train, True, True)\n",
    "metrics_df = metrics_df.append(metrics_dict, ignore_index =True)"
   ]
  },
  {
   "cell_type": "markdown",
   "metadata": {},
   "source": [
    "# Linear Regression model: only considering date"
   ]
  },
  {
   "cell_type": "markdown",
   "metadata": {},
   "source": [
    "<b>Linear Regression model:</b>"
   ]
  },
  {
   "cell_type": "markdown",
   "metadata": {},
   "source": [
    "<b>training data not scaled </b>"
   ]
  },
  {
   "cell_type": "code",
   "execution_count": 22,
   "metadata": {},
   "outputs": [],
   "source": [
    "# Using Los Angeles, California data to train linear regression model\n",
    "metrics_dict = Linear_Regression(LA_hou_mor_train, False, False)\n",
    "metrics_df = metrics_df.append(metrics_dict, ignore_index =True)"
   ]
  },
  {
   "cell_type": "code",
   "execution_count": 23,
   "metadata": {},
   "outputs": [],
   "source": [
    "# Using Denver, Colorado data to train linear regression model\n",
    "metrics_dict = Linear_Regression(De_hou_mor_train, False, False)\n",
    "metrics_df = metrics_df.append(metrics_dict, ignore_index =True)"
   ]
  },
  {
   "cell_type": "code",
   "execution_count": 24,
   "metadata": {},
   "outputs": [],
   "source": [
    "# Using Dallas, Texas data to train linear regression model\n",
    "metrics_dict = Linear_Regression(Da_hou_mor_train, False, False)\n",
    "metrics_df = metrics_df.append(metrics_dict, ignore_index =True)"
   ]
  },
  {
   "cell_type": "code",
   "execution_count": 25,
   "metadata": {},
   "outputs": [],
   "source": [
    "# Using Virginia Beach, Virginia data to train linear regression model\n",
    "metrics_dict = Linear_Regression(VB_hou_mor_train, False, False)\n",
    "metrics_df = metrics_df.append(metrics_dict, ignore_index =True)"
   ]
  },
  {
   "cell_type": "code",
   "execution_count": 26,
   "metadata": {},
   "outputs": [],
   "source": [
    "# Using King, Washington data to train linear regression model\n",
    "metrics_dict = Linear_Regression(Ki_hou_mor_train, False, False)\n",
    "metrics_df = metrics_df.append(metrics_dict, ignore_index =True)"
   ]
  },
  {
   "cell_type": "markdown",
   "metadata": {},
   "source": [
    "<b>scaled training data:</b>"
   ]
  },
  {
   "cell_type": "code",
   "execution_count": 27,
   "metadata": {},
   "outputs": [],
   "source": [
    "# Using Los Angeles, California data to train linear regression model\n",
    "metrics_dict = Linear_Regression(LA_hou_mor_train, False, True)\n",
    "metrics_df = metrics_df.append(metrics_dict, ignore_index =True)"
   ]
  },
  {
   "cell_type": "code",
   "execution_count": 28,
   "metadata": {},
   "outputs": [],
   "source": [
    "# Using Denver, Colorado data to train linear regression model\n",
    "metrics_dict = Linear_Regression(De_hou_mor_train, False, True)\n",
    "metrics_df = metrics_df.append(metrics_dict, ignore_index =True)"
   ]
  },
  {
   "cell_type": "code",
   "execution_count": 29,
   "metadata": {},
   "outputs": [],
   "source": [
    "# Using Dallas, Texas data to train linear regression model\n",
    "metrics_dict = Linear_Regression(Da_hou_mor_train, False, True)\n",
    "metrics_df = metrics_df.append(metrics_dict, ignore_index =True)"
   ]
  },
  {
   "cell_type": "code",
   "execution_count": 30,
   "metadata": {},
   "outputs": [],
   "source": [
    "# Using Virginia Beach, Virginia data to train linear regression model\n",
    "metrics_dict = Linear_Regression(VB_hou_mor_train, False, True)\n",
    "metrics_df = metrics_df.append(metrics_dict, ignore_index =True)"
   ]
  },
  {
   "cell_type": "code",
   "execution_count": 31,
   "metadata": {},
   "outputs": [],
   "source": [
    "# Using King, Washington data to train linear regression model\n",
    "metrics_dict = Linear_Regression(Ki_hou_mor_train, False, True)\n",
    "metrics_df = metrics_df.append(metrics_dict, ignore_index =True)"
   ]
  },
  {
   "cell_type": "code",
   "execution_count": 32,
   "metadata": {
    "scrolled": false
   },
   "outputs": [
    {
     "data": {
      "text/html": [
       "<div>\n",
       "<style scoped>\n",
       "    .dataframe tbody tr th:only-of-type {\n",
       "        vertical-align: middle;\n",
       "    }\n",
       "\n",
       "    .dataframe tbody tr th {\n",
       "        vertical-align: top;\n",
       "    }\n",
       "\n",
       "    .dataframe thead th {\n",
       "        text-align: right;\n",
       "    }\n",
       "</style>\n",
       "<table border=\"1\" class=\"dataframe\">\n",
       "  <thead>\n",
       "    <tr style=\"text-align: right;\">\n",
       "      <th></th>\n",
       "      <th>county_state</th>\n",
       "      <th>mul_linear_reg</th>\n",
       "      <th>scale</th>\n",
       "      <th>R2</th>\n",
       "      <th>MAE</th>\n",
       "      <th>MSE</th>\n",
       "      <th>RMSE</th>\n",
       "    </tr>\n",
       "  </thead>\n",
       "  <tbody>\n",
       "    <tr>\n",
       "      <th>0</th>\n",
       "      <td>Los Angeles, California</td>\n",
       "      <td>1</td>\n",
       "      <td>0</td>\n",
       "      <td>0.97</td>\n",
       "      <td>10700.76</td>\n",
       "      <td>2.216364e+08</td>\n",
       "      <td>14887.46</td>\n",
       "    </tr>\n",
       "    <tr>\n",
       "      <th>1</th>\n",
       "      <td>Denver, Colorado</td>\n",
       "      <td>1</td>\n",
       "      <td>0</td>\n",
       "      <td>0.98</td>\n",
       "      <td>7552.51</td>\n",
       "      <td>8.621434e+07</td>\n",
       "      <td>9285.17</td>\n",
       "    </tr>\n",
       "    <tr>\n",
       "      <th>2</th>\n",
       "      <td>Dallas, Texas</td>\n",
       "      <td>1</td>\n",
       "      <td>0</td>\n",
       "      <td>0.99</td>\n",
       "      <td>3323.95</td>\n",
       "      <td>1.905756e+07</td>\n",
       "      <td>4365.50</td>\n",
       "    </tr>\n",
       "    <tr>\n",
       "      <th>3</th>\n",
       "      <td>Virginia Beach, Virginia</td>\n",
       "      <td>1</td>\n",
       "      <td>0</td>\n",
       "      <td>0.88</td>\n",
       "      <td>4245.41</td>\n",
       "      <td>3.854512e+07</td>\n",
       "      <td>6208.47</td>\n",
       "    </tr>\n",
       "    <tr>\n",
       "      <th>4</th>\n",
       "      <td>King, Washington</td>\n",
       "      <td>1</td>\n",
       "      <td>0</td>\n",
       "      <td>0.98</td>\n",
       "      <td>12138.47</td>\n",
       "      <td>2.222834e+08</td>\n",
       "      <td>14909.17</td>\n",
       "    </tr>\n",
       "    <tr>\n",
       "      <th>5</th>\n",
       "      <td>Los Angeles, California</td>\n",
       "      <td>1</td>\n",
       "      <td>1</td>\n",
       "      <td>0.97</td>\n",
       "      <td>10700.76</td>\n",
       "      <td>2.216364e+08</td>\n",
       "      <td>14887.46</td>\n",
       "    </tr>\n",
       "    <tr>\n",
       "      <th>6</th>\n",
       "      <td>Denver, Colorado</td>\n",
       "      <td>1</td>\n",
       "      <td>1</td>\n",
       "      <td>0.98</td>\n",
       "      <td>7552.51</td>\n",
       "      <td>8.621434e+07</td>\n",
       "      <td>9285.17</td>\n",
       "    </tr>\n",
       "    <tr>\n",
       "      <th>7</th>\n",
       "      <td>Dallas, Texas</td>\n",
       "      <td>1</td>\n",
       "      <td>1</td>\n",
       "      <td>0.99</td>\n",
       "      <td>3323.95</td>\n",
       "      <td>1.905756e+07</td>\n",
       "      <td>4365.50</td>\n",
       "    </tr>\n",
       "    <tr>\n",
       "      <th>8</th>\n",
       "      <td>Virginia Beach, Virginia</td>\n",
       "      <td>1</td>\n",
       "      <td>1</td>\n",
       "      <td>0.88</td>\n",
       "      <td>4245.41</td>\n",
       "      <td>3.854512e+07</td>\n",
       "      <td>6208.47</td>\n",
       "    </tr>\n",
       "    <tr>\n",
       "      <th>9</th>\n",
       "      <td>King, Washington</td>\n",
       "      <td>1</td>\n",
       "      <td>1</td>\n",
       "      <td>0.98</td>\n",
       "      <td>12138.47</td>\n",
       "      <td>2.222834e+08</td>\n",
       "      <td>14909.17</td>\n",
       "    </tr>\n",
       "    <tr>\n",
       "      <th>10</th>\n",
       "      <td>Los Angeles, California</td>\n",
       "      <td>0</td>\n",
       "      <td>0</td>\n",
       "      <td>0.97</td>\n",
       "      <td>11257.69</td>\n",
       "      <td>2.350852e+08</td>\n",
       "      <td>15332.49</td>\n",
       "    </tr>\n",
       "    <tr>\n",
       "      <th>11</th>\n",
       "      <td>Denver, Colorado</td>\n",
       "      <td>0</td>\n",
       "      <td>0</td>\n",
       "      <td>0.99</td>\n",
       "      <td>7202.49</td>\n",
       "      <td>7.912222e+07</td>\n",
       "      <td>8895.07</td>\n",
       "    </tr>\n",
       "    <tr>\n",
       "      <th>12</th>\n",
       "      <td>Dallas, Texas</td>\n",
       "      <td>0</td>\n",
       "      <td>0</td>\n",
       "      <td>0.99</td>\n",
       "      <td>3209.21</td>\n",
       "      <td>1.820712e+07</td>\n",
       "      <td>4266.98</td>\n",
       "    </tr>\n",
       "    <tr>\n",
       "      <th>13</th>\n",
       "      <td>Virginia Beach, Virginia</td>\n",
       "      <td>0</td>\n",
       "      <td>0</td>\n",
       "      <td>0.84</td>\n",
       "      <td>4954.04</td>\n",
       "      <td>5.064543e+07</td>\n",
       "      <td>7116.56</td>\n",
       "    </tr>\n",
       "    <tr>\n",
       "      <th>14</th>\n",
       "      <td>King, Washington</td>\n",
       "      <td>0</td>\n",
       "      <td>0</td>\n",
       "      <td>0.98</td>\n",
       "      <td>12828.16</td>\n",
       "      <td>2.227372e+08</td>\n",
       "      <td>14924.38</td>\n",
       "    </tr>\n",
       "    <tr>\n",
       "      <th>15</th>\n",
       "      <td>Los Angeles, California</td>\n",
       "      <td>0</td>\n",
       "      <td>1</td>\n",
       "      <td>0.97</td>\n",
       "      <td>11257.69</td>\n",
       "      <td>2.350852e+08</td>\n",
       "      <td>15332.49</td>\n",
       "    </tr>\n",
       "    <tr>\n",
       "      <th>16</th>\n",
       "      <td>Denver, Colorado</td>\n",
       "      <td>0</td>\n",
       "      <td>1</td>\n",
       "      <td>0.99</td>\n",
       "      <td>7202.49</td>\n",
       "      <td>7.912222e+07</td>\n",
       "      <td>8895.07</td>\n",
       "    </tr>\n",
       "    <tr>\n",
       "      <th>17</th>\n",
       "      <td>Dallas, Texas</td>\n",
       "      <td>0</td>\n",
       "      <td>1</td>\n",
       "      <td>0.99</td>\n",
       "      <td>3209.21</td>\n",
       "      <td>1.820712e+07</td>\n",
       "      <td>4266.98</td>\n",
       "    </tr>\n",
       "    <tr>\n",
       "      <th>18</th>\n",
       "      <td>Virginia Beach, Virginia</td>\n",
       "      <td>0</td>\n",
       "      <td>1</td>\n",
       "      <td>0.84</td>\n",
       "      <td>4954.04</td>\n",
       "      <td>5.064543e+07</td>\n",
       "      <td>7116.56</td>\n",
       "    </tr>\n",
       "    <tr>\n",
       "      <th>19</th>\n",
       "      <td>King, Washington</td>\n",
       "      <td>0</td>\n",
       "      <td>1</td>\n",
       "      <td>0.98</td>\n",
       "      <td>12828.16</td>\n",
       "      <td>2.227372e+08</td>\n",
       "      <td>14924.38</td>\n",
       "    </tr>\n",
       "  </tbody>\n",
       "</table>\n",
       "</div>"
      ],
      "text/plain": [
       "                county_state mul_linear_reg scale    R2       MAE  \\\n",
       "0    Los Angeles, California              1     0  0.97  10700.76   \n",
       "1           Denver, Colorado              1     0  0.98   7552.51   \n",
       "2              Dallas, Texas              1     0  0.99   3323.95   \n",
       "3   Virginia Beach, Virginia              1     0  0.88   4245.41   \n",
       "4           King, Washington              1     0  0.98  12138.47   \n",
       "5    Los Angeles, California              1     1  0.97  10700.76   \n",
       "6           Denver, Colorado              1     1  0.98   7552.51   \n",
       "7              Dallas, Texas              1     1  0.99   3323.95   \n",
       "8   Virginia Beach, Virginia              1     1  0.88   4245.41   \n",
       "9           King, Washington              1     1  0.98  12138.47   \n",
       "10   Los Angeles, California              0     0  0.97  11257.69   \n",
       "11          Denver, Colorado              0     0  0.99   7202.49   \n",
       "12             Dallas, Texas              0     0  0.99   3209.21   \n",
       "13  Virginia Beach, Virginia              0     0  0.84   4954.04   \n",
       "14          King, Washington              0     0  0.98  12828.16   \n",
       "15   Los Angeles, California              0     1  0.97  11257.69   \n",
       "16          Denver, Colorado              0     1  0.99   7202.49   \n",
       "17             Dallas, Texas              0     1  0.99   3209.21   \n",
       "18  Virginia Beach, Virginia              0     1  0.84   4954.04   \n",
       "19          King, Washington              0     1  0.98  12828.16   \n",
       "\n",
       "             MSE      RMSE  \n",
       "0   2.216364e+08  14887.46  \n",
       "1   8.621434e+07   9285.17  \n",
       "2   1.905756e+07   4365.50  \n",
       "3   3.854512e+07   6208.47  \n",
       "4   2.222834e+08  14909.17  \n",
       "5   2.216364e+08  14887.46  \n",
       "6   8.621434e+07   9285.17  \n",
       "7   1.905756e+07   4365.50  \n",
       "8   3.854512e+07   6208.47  \n",
       "9   2.222834e+08  14909.17  \n",
       "10  2.350852e+08  15332.49  \n",
       "11  7.912222e+07   8895.07  \n",
       "12  1.820712e+07   4266.98  \n",
       "13  5.064543e+07   7116.56  \n",
       "14  2.227372e+08  14924.38  \n",
       "15  2.350852e+08  15332.49  \n",
       "16  7.912222e+07   8895.07  \n",
       "17  1.820712e+07   4266.98  \n",
       "18  5.064543e+07   7116.56  \n",
       "19  2.227372e+08  14924.38  "
      ]
     },
     "execution_count": 32,
     "metadata": {},
     "output_type": "execute_result"
    }
   ],
   "source": [
    "metrics_df"
   ]
  },
  {
   "cell_type": "markdown",
   "metadata": {},
   "source": [
    "In general, multiple linear regression, including ordinal dates and mortgage rates for scaled and non-scaled data has a better model metrics compared to linear regression with ordinal date data alone.\n",
    "Also Los Angeles, California and Virginia Beach, Virginia has low R2 score. We can see if time series modelling is better."
   ]
  },
  {
   "cell_type": "markdown",
   "metadata": {},
   "source": [
    "# Time Series Ananlysis and modelling"
   ]
  },
  {
   "cell_type": "markdown",
   "metadata": {},
   "source": [
    "<b>For Dalla, Texas:</b>"
   ]
  },
  {
   "cell_type": "code",
   "execution_count": 33,
   "metadata": {},
   "outputs": [
    {
     "data": {
      "text/plain": [
       "Index(['state_name', 'county_name', 'Date', 'Price', 'mortgage_int_rate',\n",
       "       'Date_ord'],\n",
       "      dtype='object')"
      ]
     },
     "execution_count": 33,
     "metadata": {},
     "output_type": "execute_result"
    }
   ],
   "source": [
    "Da_hou_mor_train.columns"
   ]
  },
  {
   "cell_type": "code",
   "execution_count": 34,
   "metadata": {},
   "outputs": [],
   "source": [
    "Da_hou_mor_ts =Da_hou_mor_train[[\"Date\",\"Price\",\"mortgage_int_rate\"]]"
   ]
  },
  {
   "cell_type": "code",
   "execution_count": 35,
   "metadata": {},
   "outputs": [
    {
     "data": {
      "text/html": [
       "<div>\n",
       "<style scoped>\n",
       "    .dataframe tbody tr th:only-of-type {\n",
       "        vertical-align: middle;\n",
       "    }\n",
       "\n",
       "    .dataframe tbody tr th {\n",
       "        vertical-align: top;\n",
       "    }\n",
       "\n",
       "    .dataframe thead th {\n",
       "        text-align: right;\n",
       "    }\n",
       "</style>\n",
       "<table border=\"1\" class=\"dataframe\">\n",
       "  <thead>\n",
       "    <tr style=\"text-align: right;\">\n",
       "      <th></th>\n",
       "      <th>Price</th>\n",
       "      <th>mortgage_int_rate</th>\n",
       "    </tr>\n",
       "    <tr>\n",
       "      <th>Date</th>\n",
       "      <th></th>\n",
       "      <th></th>\n",
       "    </tr>\n",
       "  </thead>\n",
       "  <tbody>\n",
       "    <tr>\n",
       "      <th>2013-01-31</th>\n",
       "      <td>151014.0</td>\n",
       "      <td>3.4140</td>\n",
       "    </tr>\n",
       "    <tr>\n",
       "      <th>2013-02-28</th>\n",
       "      <td>151698.0</td>\n",
       "      <td>3.5325</td>\n",
       "    </tr>\n",
       "    <tr>\n",
       "      <th>2013-03-31</th>\n",
       "      <td>152650.0</td>\n",
       "      <td>3.5650</td>\n",
       "    </tr>\n",
       "    <tr>\n",
       "      <th>2013-04-30</th>\n",
       "      <td>153618.0</td>\n",
       "      <td>3.4450</td>\n",
       "    </tr>\n",
       "    <tr>\n",
       "      <th>2013-05-31</th>\n",
       "      <td>154697.0</td>\n",
       "      <td>3.5360</td>\n",
       "    </tr>\n",
       "  </tbody>\n",
       "</table>\n",
       "</div>"
      ],
      "text/plain": [
       "               Price  mortgage_int_rate\n",
       "Date                                   \n",
       "2013-01-31  151014.0             3.4140\n",
       "2013-02-28  151698.0             3.5325\n",
       "2013-03-31  152650.0             3.5650\n",
       "2013-04-30  153618.0             3.4450\n",
       "2013-05-31  154697.0             3.5360"
      ]
     },
     "execution_count": 35,
     "metadata": {},
     "output_type": "execute_result"
    }
   ],
   "source": [
    "Da_hou_mor_ts.set_index(Da_hou_mor_ts['Date'], inplace=True)\n",
    "Da_hou_mor_ts.drop('Date',axis=1, inplace = True)\n",
    "Da_hou_mor_ts.head()"
   ]
  },
  {
   "cell_type": "code",
   "execution_count": 36,
   "metadata": {},
   "outputs": [
    {
     "data": {
      "text/plain": [
       "<AxesSubplot:xlabel='Date'>"
      ]
     },
     "execution_count": 36,
     "metadata": {},
     "output_type": "execute_result"
    },
    {
     "data": {
      "image/png": "[encoded data removed]",
      "text/plain": [
       "<Figure size 432x288 with 1 Axes>"
      ]
     },
     "metadata": {
      "needs_background": "light"
     },
     "output_type": "display_data"
    }
   ],
   "source": [
    "Da_hou_mor_ts.mortgage_int_rate.plot()"
   ]
  },
  {
   "cell_type": "code",
   "execution_count": 37,
   "metadata": {},
   "outputs": [
    {
     "data": {
      "text/plain": [
       "<AxesSubplot:xlabel='Date'>"
      ]
     },
     "execution_count": 37,
     "metadata": {},
     "output_type": "execute_result"
    },
    {
     "data": {
      "image/png": "[encoded data removed]",
      "text/plain": [
       "<Figure size 720x576 with 1 Axes>"
      ]
     },
     "metadata": {
      "needs_background": "light"
     },
     "output_type": "display_data"
    }
   ],
   "source": [
    "plt.figure(figsize=(10,8))\n",
    "Da_hou_mor_ts.Price.plot()"
   ]
  },
  {
   "cell_type": "markdown",
   "metadata": {},
   "source": [
    "The housing price shows trend, but no seasonality is intuitively visible. We can decompose and see for different components."
   ]
  },
  {
   "cell_type": "code",
   "execution_count": 38,
   "metadata": {},
   "outputs": [
    {
     "data": {
      "image/png": "[encoded data removed]",
      "text/plain": [
       "<Figure size 720x576 with 4 Axes>"
      ]
     },
     "metadata": {
      "needs_background": "light"
     },
     "output_type": "display_data"
    }
   ],
   "source": [
    "from statsmodels.tsa.seasonal import seasonal_decompose\n",
    "decompose = seasonal_decompose(Da_hou_mor_ts.Price, model='additive')\n",
    "trend = decompose.trend\n",
    "seasonal = decompose.seasonal\n",
    "residual = decompose.resid\n",
    "plt.figure(figsize=(10,8))\n",
    "# Plot the original data, the trend, the seasonality, and the residuals \n",
    "plt.subplot(4,1,1)\n",
    "plt.plot(Da_hou_mor_ts.Price, label = 'actual housing price data')\n",
    "plt.legend(loc = 'best')\n",
    "plt.subplot(4,1,2)\n",
    "plt.plot(trend, label = 'Trend')\n",
    "plt.legend(loc = 'best')\n",
    "plt.subplot(4,1,3)\n",
    "plt.plot(seasonal, label = 'Seasonality')\n",
    "plt.legend(loc = 'best')\n",
    "plt.subplot(4,1,4)\n",
    "plt.plot(residual, label = 'Residuals')\n",
    "plt.legend(loc = 'best')\n",
    "plt.tight_layout()"
   ]
  },
  {
   "cell_type": "markdown",
   "metadata": {},
   "source": [
    "Looks like there is a small seasonality and good trend in the data."
   ]
  },
  {
   "cell_type": "markdown",
   "metadata": {},
   "source": [
    "<b>Dickey Fuller and kpss test for stationarity of the time series</b>"
   ]
  },
  {
   "cell_type": "code",
   "execution_count": 39,
   "metadata": {},
   "outputs": [
    {
     "name": "stdout",
     "output_type": "stream",
     "text": [
      "KPSS Statistic: 0.8470488187991455\n",
      "p-value: 0.01\n",
      "num lags: 13\n",
      "Critial Values:\n",
      "   10% : 0.347\n",
      "   5% : 0.463\n",
      "   2.5% : 0.574\n",
      "   1% : 0.739\n",
      "The series is not stationary\n"
     ]
    }
   ],
   "source": [
    "from statsmodels.tsa.stattools import kpss\n",
    "statistic, p_value, n_lags, critical_values = kpss(Da_hou_mor_ts.Price)\n",
    "print(f'KPSS Statistic: {statistic}')\n",
    "print(f'p-value: {p_value}')\n",
    "print(f'num lags: {n_lags}')\n",
    "print('Critial Values:')\n",
    "for key, value in critical_values.items():\n",
    "    print(f'   {key} : {value}')\n",
    "print(f'The series is {\"not \" if p_value < 0.05 else \"\"}stationary')"
   ]
  },
  {
   "cell_type": "code",
   "execution_count": 40,
   "metadata": {},
   "outputs": [
    {
     "name": "stdout",
     "output_type": "stream",
     "text": [
      "ADF Statistic: 1.632804\n",
      "p-value: 0.997953\n",
      "Critical Values:\n",
      "\t1%: -3.506\n",
      "\t5%: -2.895\n",
      "\t10%: -2.584\n",
      "Time Series is Non-Stationary\n"
     ]
    }
   ],
   "source": [
    "from statsmodels.tsa.stattools import adfuller\n",
    "result = adfuller(Da_hou_mor_ts.Price, autolag='AIC')\n",
    "print('ADF Statistic: %f' % result[0])\n",
    "print('p-value: %f' % result[1])\n",
    "print('Critical Values:')\n",
    "\n",
    "for key, value in result[4].items():\n",
    "    print('\\t%s: %.3f' % (key, value))\n",
    "if result[0] < result[4][\"5%\"]:\n",
    "    print (\"Time Series is Stationary\")\n",
    "else:\n",
    "    print (\"Time Series is Non-Stationary\")"
   ]
  },
  {
   "cell_type": "markdown",
   "metadata": {},
   "source": [
    "We can make the data stationary by differencing our data. "
   ]
  },
  {
   "cell_type": "markdown",
   "metadata": {},
   "source": [
    "Only differencing this time series data and trying for a best ARIMA parameters gave a large MSE values. So taking log transform and then differencing may give a smaller mse values."
   ]
  },
  {
   "cell_type": "code",
   "execution_count": 41,
   "metadata": {},
   "outputs": [],
   "source": [
    "Price_log = np.log(Da_hou_mor_ts.Price)"
   ]
  },
  {
   "cell_type": "code",
   "execution_count": 42,
   "metadata": {},
   "outputs": [
    {
     "name": "stdout",
     "output_type": "stream",
     "text": [
      "KPSS Statistic: 0.09385562783084714\n",
      "p-value: 0.1\n",
      "num lags: 13\n",
      "Critial Values:\n",
      "   10% : 0.347\n",
      "   5% : 0.463\n",
      "   2.5% : 0.574\n",
      "   1% : 0.739\n",
      "The series is stationary\n"
     ]
    }
   ],
   "source": [
    "statistic, p_value, n_lags, critical_values = kpss(Price_log.diff().dropna())\n",
    "print(f'KPSS Statistic: {statistic}')\n",
    "print(f'p-value: {p_value}')\n",
    "print(f'num lags: {n_lags}')\n",
    "print('Critial Values:')\n",
    "for key, value in critical_values.items():\n",
    "    print(f'   {key} : {value}')\n",
    "print(f'The series is {\"not \" if p_value < 0.05 else \"\"}stationary')"
   ]
  },
  {
   "cell_type": "markdown",
   "metadata": {},
   "source": [
    "Now the data is stationary and we can use to train the model."
   ]
  },
  {
   "cell_type": "code",
   "execution_count": 43,
   "metadata": {},
   "outputs": [
    {
     "data": {
      "text/plain": [
       "Date\n",
       "2013-01-31    11.925128\n",
       "2013-02-28    11.929647\n",
       "2013-03-31    11.935903\n",
       "2013-04-30    11.942224\n",
       "2013-05-31    11.949224\n",
       "Name: Price, dtype: float64"
      ]
     },
     "execution_count": 43,
     "metadata": {},
     "output_type": "execute_result"
    }
   ],
   "source": [
    "Price_log.head()"
   ]
  },
  {
   "cell_type": "code",
   "execution_count": 44,
   "metadata": {},
   "outputs": [],
   "source": [
    "# Import mean_squared_error and ARIMA\n",
    "from sklearn.metrics import mean_squared_error\n",
    "from statsmodels.tsa.arima_model import ARIMA"
   ]
  },
  {
   "cell_type": "markdown",
   "metadata": {},
   "source": [
    "<b>try removing parameter search and try getting parameters from acf and pacf plots. Because the single differencing is giving better pred than the 2 differencing whihc is suggested as a better model.</b>"
   ]
  },
  {
   "cell_type": "code",
   "execution_count": 45,
   "metadata": {},
   "outputs": [],
   "source": [
    "# Make a function called evaluate_arima_model to find the MSE of a single ARIMA model \n",
    "def evaluate_arima_model(data, arima_order):\n",
    "    # Needs to be an integer because it is later used as an index.\n",
    "    # Use int()\n",
    "    split=int(len(data) * 0.8) \n",
    "    # Make train and test variables, with 'train, test'\n",
    "    train, test = data[0:split], data[split:len(data)]\n",
    "    past=[x for x in train]\n",
    "    # make predictions\n",
    "    predictions = list()\n",
    "    for i in range(len(test)):#timestep-wise comparison between test data and one-step prediction ARIMA model. \n",
    "        model = ARIMA(past, order=arima_order)\n",
    "        model_fit = model.fit(disp=0)\n",
    "        future = model_fit.forecast()[0]\n",
    "        predictions.append(future)\n",
    "        past.append(test[i])\n",
    "    # calculate out of sample error\n",
    "    error = mean_squared_error(test, predictions)\n",
    "    # Return the error\n",
    "    return error"
   ]
  },
  {
   "cell_type": "code",
   "execution_count": 46,
   "metadata": {},
   "outputs": [],
   "source": [
    "# Make a function called evaluate_models to evaluate different ARIMA models with several different p, d, and q values.\n",
    "def evaluate_models(dataset, p_values, d_values, q_values):\n",
    "    best_score, best_cfg = float(\"inf\"), None\n",
    "    # Iterate through p_values\n",
    "    for p in p_values:\n",
    "        # Iterate through d_values\n",
    "        for d in d_values:\n",
    "            # Iterate through q_values\n",
    "            for q in q_values:\n",
    "                # p, d, q iterator variables in that order\n",
    "                order = (p,q,d)\n",
    "                try:\n",
    "                    # Make a variable called mse for the Mean squared error\n",
    "                    mse = evaluate_arima_model(dataset, order)\n",
    "                    if mse < best_score:\n",
    "                        best_score, best_cfg = mse, order\n",
    "                    print('ARIMA%s MSE=%.3f' % (order,mse))\n",
    "                except:\n",
    "                    continue\n",
    "    return print('Best ARIMA%s MSE=%.3f' % (best_cfg, best_score))"
   ]
  },
  {
   "cell_type": "code",
   "execution_count": 69,
   "metadata": {},
   "outputs": [],
   "source": [
    "# Now, we choose a couple of values to try for each parameter.\n",
    "p_values = [x for x in range(0, 2)]\n",
    "d_values = [x for x in range(0, 2)]\n",
    "q_values = [x for x in range(0, 2)]"
   ]
  },
  {
   "cell_type": "code",
   "execution_count": 70,
   "metadata": {},
   "outputs": [
    {
     "name": "stdout",
     "output_type": "stream",
     "text": [
      "ARIMA(0, 0, 0) MSE=0.073\n",
      "ARIMA(0, 1, 0) MSE=0.000\n",
      "ARIMA(0, 0, 1) MSE=0.019\n",
      "ARIMA(0, 1, 1) MSE=0.000\n",
      "ARIMA(1, 0, 0) MSE=0.000\n",
      "ARIMA(1, 1, 0) MSE=0.000\n",
      "ARIMA(1, 1, 1) MSE=0.000\n",
      "Best ARIMA(1, 1, 0) MSE=0.000\n"
     ]
    }
   ],
   "source": [
    "import warnings\n",
    "warnings.filterwarnings(\"ignore\")\n",
    "evaluate_models(Price_log, p_values, d_values, q_values)"
   ]
  },
  {
   "cell_type": "markdown",
   "metadata": {},
   "source": [
    "The above search for best parameters show double differencing gives a better model."
   ]
  },
  {
   "cell_type": "code",
   "execution_count": 71,
   "metadata": {},
   "outputs": [],
   "source": [
    "model = ARIMA(Price_log, order=(1,1,0))\n",
    "model_fit = model.fit()\n",
    "forecast = model_fit.forecast(7)"
   ]
  },
  {
   "cell_type": "code",
   "execution_count": 72,
   "metadata": {},
   "outputs": [
    {
     "data": {
      "text/html": [
       "<table class=\"simpletable\">\n",
       "<caption>ARIMA Model Results</caption>\n",
       "<tr>\n",
       "  <th>Dep. Variable:</th>      <td>D.Price</td>     <th>  No. Observations:  </th>    <td>101</td>  \n",
       "</tr>\n",
       "<tr>\n",
       "  <th>Model:</th>          <td>ARIMA(1, 1, 0)</td>  <th>  Log Likelihood     </th>  <td>498.682</td>\n",
       "</tr>\n",
       "<tr>\n",
       "  <th>Method:</th>             <td>css-mle</td>     <th>  S.D. of innovations</th>   <td>0.002</td> \n",
       "</tr>\n",
       "<tr>\n",
       "  <th>Date:</th>          <td>Tue, 08 Mar 2022</td> <th>  AIC                </th> <td>-991.365</td>\n",
       "</tr>\n",
       "<tr>\n",
       "  <th>Time:</th>              <td>21:02:31</td>     <th>  BIC                </th> <td>-983.519</td>\n",
       "</tr>\n",
       "<tr>\n",
       "  <th>Sample:</th>           <td>02-28-2013</td>    <th>  HQIC               </th> <td>-988.189</td>\n",
       "</tr>\n",
       "<tr>\n",
       "  <th></th>                 <td>- 06-30-2021</td>   <th>                     </th>     <td> </td>   \n",
       "</tr>\n",
       "</table>\n",
       "<table class=\"simpletable\">\n",
       "<tr>\n",
       "        <td></td>           <th>coef</th>     <th>std err</th>      <th>z</th>      <th>P>|z|</th>  <th>[0.025</th>    <th>0.975]</th>  \n",
       "</tr>\n",
       "<tr>\n",
       "  <th>const</th>         <td>    0.0142</td> <td>      nan</td> <td>      nan</td> <td>   nan</td> <td>      nan</td> <td>      nan</td>\n",
       "</tr>\n",
       "<tr>\n",
       "  <th>ar.L1.D.Price</th> <td>    1.0000</td> <td>      nan</td> <td>      nan</td> <td>   nan</td> <td>      nan</td> <td>      nan</td>\n",
       "</tr>\n",
       "</table>\n",
       "<table class=\"simpletable\">\n",
       "<caption>Roots</caption>\n",
       "<tr>\n",
       "    <td></td>   <th>            Real</th>  <th>         Imaginary</th> <th>         Modulus</th>  <th>        Frequency</th>\n",
       "</tr>\n",
       "<tr>\n",
       "  <th>AR.1</th> <td>           1.0000</td> <td>          +0.0000j</td> <td>           1.0000</td> <td>           0.0000</td>\n",
       "</tr>\n",
       "</table>"
      ],
      "text/plain": [
       "<class 'statsmodels.iolib.summary.Summary'>\n",
       "\"\"\"\n",
       "                             ARIMA Model Results                              \n",
       "==============================================================================\n",
       "Dep. Variable:                D.Price   No. Observations:                  101\n",
       "Model:                 ARIMA(1, 1, 0)   Log Likelihood                 498.682\n",
       "Method:                       css-mle   S.D. of innovations              0.002\n",
       "Date:                Tue, 08 Mar 2022   AIC                           -991.365\n",
       "Time:                        21:02:31   BIC                           -983.519\n",
       "Sample:                    02-28-2013   HQIC                          -988.189\n",
       "                         - 06-30-2021                                         \n",
       "=================================================================================\n",
       "                    coef    std err          z      P>|z|      [0.025      0.975]\n",
       "---------------------------------------------------------------------------------\n",
       "const             0.0142        nan        nan        nan         nan         nan\n",
       "ar.L1.D.Price     1.0000        nan        nan        nan         nan         nan\n",
       "                                    Roots                                    \n",
       "=============================================================================\n",
       "                  Real          Imaginary           Modulus         Frequency\n",
       "-----------------------------------------------------------------------------\n",
       "AR.1            1.0000           +0.0000j            1.0000            0.0000\n",
       "-----------------------------------------------------------------------------\n",
       "\"\"\""
      ]
     },
     "execution_count": 72,
     "metadata": {},
     "output_type": "execute_result"
    }
   ],
   "source": [
    "model_fit.summary()"
   ]
  },
  {
   "cell_type": "code",
   "execution_count": 73,
   "metadata": {},
   "outputs": [
    {
     "data": {
      "text/plain": [
       "[<matplotlib.lines.Line2D at 0x25cbb205790>]"
      ]
     },
     "execution_count": 73,
     "metadata": {},
     "output_type": "execute_result"
    },
    {
     "data": {
      "image/png": "[encoded data removed]",
      "text/plain": [
       "<Figure size 1080x720 with 1 Axes>"
      ]
     },
     "metadata": {
      "needs_background": "light"
     },
     "output_type": "display_data"
    }
   ],
   "source": [
    "# Call figure() and plot() on the plt\n",
    "plt.figure(figsize=(15,10))\n",
    "plt.plot(Price_log.diff(periods=2))\n",
    "plt.plot(model_fit.predict(), color = 'red')"
   ]
  },
  {
   "cell_type": "code",
   "execution_count": 74,
   "metadata": {},
   "outputs": [
    {
     "data": {
      "image/png": "[encoded data removed]",
      "text/plain": [
       "<Figure size 1080x720 with 1 Axes>"
      ]
     },
     "metadata": {
      "needs_background": "light"
     },
     "output_type": "display_data"
    }
   ],
   "source": [
    "# Declare a variable called forecast_period with the amount of months to forecast, and\n",
    "# create a range of future dates that is the length of the periods you've chosen to forecast\n",
    "forecast_period= 7\n",
    "date_range = pd.date_range(Price_log.index[-1], periods = forecast_period, \n",
    "              freq='MS').strftime(\"%Y-%m-%d\").tolist()\n",
    "\n",
    "# Convert that range into a dataframe that includes your predictions\n",
    "# First, call DataFrame on pd\n",
    "future_months = pd.DataFrame(date_range, columns = ['Date'])\n",
    "# Let's now convert the 'Month' column to a datetime object with to_datetime \n",
    "future_months['Date'] = pd.to_datetime(future_months['Date'])\n",
    "future_months.set_index('Date', inplace = True)\n",
    "\n",
    "future_months['Prediction'] = pd.Series(forecast[0])\n",
    "\n",
    "# Plot your future predictions\n",
    "# Call figure() on plt\n",
    "plt.figure(figsize=(15,10))\n",
    "plt.plot(Price_log)\n",
    "plt.plot(Price_log['Jun 2021'].append(future_months['Prediction']))\n",
    "plt.show()"
   ]
  },
  {
   "cell_type": "code",
   "execution_count": 76,
   "metadata": {},
   "outputs": [
    {
     "data": {
      "text/plain": [
       "Date\n",
       "2021-07-01   NaN\n",
       "2021-08-01   NaN\n",
       "2021-09-01   NaN\n",
       "2021-10-01   NaN\n",
       "2021-11-01   NaN\n",
       "2021-12-01   NaN\n",
       "2022-01-01   NaN\n",
       "Name: Prediction, dtype: float64"
      ]
     },
     "execution_count": 76,
     "metadata": {},
     "output_type": "execute_result"
    }
   ],
   "source": [
    "Da_hou_mor_ts_p =Da_hou_mor_topred[[\"Date\",\"Price\",\"mortgage_int_rate\"]]\n",
    "\n",
    "Da_hou_mor_ts_p.set_index(Da_hou_mor_ts_p['Date'], inplace=True)\n",
    "Da_hou_mor_ts_p.drop('Date',axis=1, inplace = True)\n",
    "np.exp(future_months['Prediction'])"
   ]
  },
  {
   "cell_type": "code",
   "execution_count": 61,
   "metadata": {},
   "outputs": [
    {
     "data": {
      "image/png": "[encoded data removed]",
      "text/plain": [
       "<Figure size 1080x720 with 1 Axes>"
      ]
     },
     "metadata": {
      "needs_background": "light"
     },
     "output_type": "display_data"
    }
   ],
   "source": [
    "# Now plot the original variable y \n",
    "# Use the same functions as before\n",
    "plt.figure(figsize=(15,10))\n",
    "plt.plot(Da_hou_mor_ts.Price)\n",
    "plt.plot(np.exp(Price_log['Jun 2021'].append(future_months['Prediction'])))\n",
    "plt.show()"
   ]
  },
  {
   "cell_type": "markdown",
   "metadata": {},
   "source": [
    "Plot the whole future actual data with the above graph to see the difference."
   ]
  },
  {
   "cell_type": "code",
   "execution_count": null,
   "metadata": {},
   "outputs": [],
   "source": []
  }
 ],
 "metadata": {
  "kernelspec": {
   "display_name": "Python 3",
   "language": "python",
   "name": "python3"
  },
  "language_info": {
   "codemirror_mode": {
    "name": "ipython",
    "version": 3
   },
   "file_extension": ".py",
   "mimetype": "text/x-python",
   "name": "python",
   "nbconvert_exporter": "python",
   "pygments_lexer": "ipython3",
   "version": "3.8.5"
  }
 },
 "nbformat": 4,
 "nbformat_minor": 4
}
